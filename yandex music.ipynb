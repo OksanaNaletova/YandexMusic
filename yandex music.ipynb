{
 "cells": [
  {
   "cell_type": "markdown",
   "metadata": {
    "id": "E0vqbgi9ay0H"
   },
   "source": [
    "# Яндекс.Музыка"
   ]
  },
  {
   "cell_type": "markdown",
   "metadata": {
    "id": "VUC88oWjTJw2"
   },
   "source": [
    "Сравнение Москвы и Петербурга окружено мифами. Например:\n",
    " * Москва — мегаполис, подчинённый жёсткому ритму рабочей недели;\n",
    " * Петербург — культурная столица, со своими вкусами.\n",
    "\n",
    "На данных Яндекс.Музыки вы сравните поведение пользователей двух столиц.\n",
    "\n",
    "**Цель исследования** — проверьте три гипотезы:\n",
    "1. Активность пользователей зависит от дня недели. Причём в Москве и Петербурге это проявляется по-разному.\n",
    "2. В понедельник утром в Москве преобладают одни жанры, а в Петербурге — другие. Так же и вечером пятницы преобладают разные жанры — в зависимости от города. \n",
    "3. Москва и Петербург предпочитают разные жанры музыки. В Москве чаще слушают поп-музыку, в Петербурге — русский рэп.\n",
    "\n",
    "**Ход исследования**\n",
    "\n",
    "Данные о поведении пользователей вы получите из файла `yandex_music_project.csv`. О качестве данных ничего не известно. Поэтому перед проверкой гипотез понадобится обзор данных. \n",
    "\n",
    "Вы проверите данные на ошибки и оцените их влияние на исследование. Затем, на этапе предобработки вы поищете возможность исправить самые критичные ошибки данных.\n",
    " \n",
    "Таким образом, исследование пройдёт в три этапа:\n",
    " 1. Обзор данных.\n",
    " 2. Предобработка данных.\n",
    " 3. Проверка гипотез.\n",
    "\n"
   ]
  },
  {
   "cell_type": "markdown",
   "metadata": {
    "id": "Ml1hmfXC_Zcs"
   },
   "source": [
    "## Обзор данных\n",
    "\n",
    "Составьте первое представление о данных Яндекс.Музыки.\n",
    "\n",
    "\n"
   ]
  },
  {
   "cell_type": "markdown",
   "metadata": {
    "id": "57eAOGIz_Zcs"
   },
   "source": [
    "Основной инструмент аналитика — `pandas`. Импортируйте эту библиотеку."
   ]
  },
  {
   "cell_type": "code",
   "execution_count": 1,
   "metadata": {
    "id": "AXN7PHPN_Zcs"
   },
   "outputs": [],
   "source": [
    "# импорт библиотеки pandas\n",
    "import pandas as pd"
   ]
  },
  {
   "cell_type": "markdown",
   "metadata": {
    "id": "SG23P8tt_Zcs"
   },
   "source": [
    "Прочитайте файл `yandex_music_project.csv` из папки `/datasets` и сохраните его в переменной `df`:"
   ]
  },
  {
   "cell_type": "code",
   "execution_count": 2,
   "metadata": {
    "id": "fFVu7vqh_Zct"
   },
   "outputs": [],
   "source": [
    "# чтение файла с данными и сохранение в df \n",
    "df = pd.read_csv('/datasets/yandex_music_project.csv')"
   ]
  },
  {
   "cell_type": "markdown",
   "metadata": {
    "id": "rDoOMd3uTqnZ"
   },
   "source": [
    "Выведите на экран первые десять строк таблицы:"
   ]
  },
  {
   "cell_type": "code",
   "execution_count": 3,
   "metadata": {
    "id": "oWTVX3gW_Zct"
   },
   "outputs": [
    {
     "data": {
      "text/html": [
       "<div>\n",
       "<style scoped>\n",
       "    .dataframe tbody tr th:only-of-type {\n",
       "        vertical-align: middle;\n",
       "    }\n",
       "\n",
       "    .dataframe tbody tr th {\n",
       "        vertical-align: top;\n",
       "    }\n",
       "\n",
       "    .dataframe thead th {\n",
       "        text-align: right;\n",
       "    }\n",
       "</style>\n",
       "<table border=\"1\" class=\"dataframe\">\n",
       "  <thead>\n",
       "    <tr style=\"text-align: right;\">\n",
       "      <th></th>\n",
       "      <th>userID</th>\n",
       "      <th>Track</th>\n",
       "      <th>artist</th>\n",
       "      <th>genre</th>\n",
       "      <th>City</th>\n",
       "      <th>time</th>\n",
       "      <th>Day</th>\n",
       "    </tr>\n",
       "  </thead>\n",
       "  <tbody>\n",
       "    <tr>\n",
       "      <td>0</td>\n",
       "      <td>FFB692EC</td>\n",
       "      <td>Kamigata To Boots</td>\n",
       "      <td>The Mass Missile</td>\n",
       "      <td>rock</td>\n",
       "      <td>Saint-Petersburg</td>\n",
       "      <td>20:28:33</td>\n",
       "      <td>Wednesday</td>\n",
       "    </tr>\n",
       "    <tr>\n",
       "      <td>1</td>\n",
       "      <td>55204538</td>\n",
       "      <td>Delayed Because of Accident</td>\n",
       "      <td>Andreas Rönnberg</td>\n",
       "      <td>rock</td>\n",
       "      <td>Moscow</td>\n",
       "      <td>14:07:09</td>\n",
       "      <td>Friday</td>\n",
       "    </tr>\n",
       "    <tr>\n",
       "      <td>2</td>\n",
       "      <td>20EC38</td>\n",
       "      <td>Funiculì funiculà</td>\n",
       "      <td>Mario Lanza</td>\n",
       "      <td>pop</td>\n",
       "      <td>Saint-Petersburg</td>\n",
       "      <td>20:58:07</td>\n",
       "      <td>Wednesday</td>\n",
       "    </tr>\n",
       "    <tr>\n",
       "      <td>3</td>\n",
       "      <td>A3DD03C9</td>\n",
       "      <td>Dragons in the Sunset</td>\n",
       "      <td>Fire + Ice</td>\n",
       "      <td>folk</td>\n",
       "      <td>Saint-Petersburg</td>\n",
       "      <td>08:37:09</td>\n",
       "      <td>Monday</td>\n",
       "    </tr>\n",
       "    <tr>\n",
       "      <td>4</td>\n",
       "      <td>E2DC1FAE</td>\n",
       "      <td>Soul People</td>\n",
       "      <td>Space Echo</td>\n",
       "      <td>dance</td>\n",
       "      <td>Moscow</td>\n",
       "      <td>08:34:34</td>\n",
       "      <td>Monday</td>\n",
       "    </tr>\n",
       "    <tr>\n",
       "      <td>5</td>\n",
       "      <td>842029A1</td>\n",
       "      <td>Преданная</td>\n",
       "      <td>IMPERVTOR</td>\n",
       "      <td>rusrap</td>\n",
       "      <td>Saint-Petersburg</td>\n",
       "      <td>13:09:41</td>\n",
       "      <td>Friday</td>\n",
       "    </tr>\n",
       "    <tr>\n",
       "      <td>6</td>\n",
       "      <td>4CB90AA5</td>\n",
       "      <td>True</td>\n",
       "      <td>Roman Messer</td>\n",
       "      <td>dance</td>\n",
       "      <td>Moscow</td>\n",
       "      <td>13:00:07</td>\n",
       "      <td>Wednesday</td>\n",
       "    </tr>\n",
       "    <tr>\n",
       "      <td>7</td>\n",
       "      <td>F03E1C1F</td>\n",
       "      <td>Feeling This Way</td>\n",
       "      <td>Polina Griffith</td>\n",
       "      <td>dance</td>\n",
       "      <td>Moscow</td>\n",
       "      <td>20:47:49</td>\n",
       "      <td>Wednesday</td>\n",
       "    </tr>\n",
       "    <tr>\n",
       "      <td>8</td>\n",
       "      <td>8FA1D3BE</td>\n",
       "      <td>И вновь продолжается бой</td>\n",
       "      <td>NaN</td>\n",
       "      <td>ruspop</td>\n",
       "      <td>Moscow</td>\n",
       "      <td>09:17:40</td>\n",
       "      <td>Friday</td>\n",
       "    </tr>\n",
       "    <tr>\n",
       "      <td>9</td>\n",
       "      <td>E772D5C0</td>\n",
       "      <td>Pessimist</td>\n",
       "      <td>NaN</td>\n",
       "      <td>dance</td>\n",
       "      <td>Saint-Petersburg</td>\n",
       "      <td>21:20:49</td>\n",
       "      <td>Wednesday</td>\n",
       "    </tr>\n",
       "  </tbody>\n",
       "</table>\n",
       "</div>"
      ],
      "text/plain": [
       "     userID                        Track            artist   genre  \\\n",
       "0  FFB692EC            Kamigata To Boots  The Mass Missile    rock   \n",
       "1  55204538  Delayed Because of Accident  Andreas Rönnberg    rock   \n",
       "2    20EC38            Funiculì funiculà       Mario Lanza     pop   \n",
       "3  A3DD03C9        Dragons in the Sunset        Fire + Ice    folk   \n",
       "4  E2DC1FAE                  Soul People        Space Echo   dance   \n",
       "5  842029A1                    Преданная         IMPERVTOR  rusrap   \n",
       "6  4CB90AA5                         True      Roman Messer   dance   \n",
       "7  F03E1C1F             Feeling This Way   Polina Griffith   dance   \n",
       "8  8FA1D3BE     И вновь продолжается бой               NaN  ruspop   \n",
       "9  E772D5C0                    Pessimist               NaN   dance   \n",
       "\n",
       "             City        time        Day  \n",
       "0  Saint-Petersburg  20:28:33  Wednesday  \n",
       "1            Moscow  14:07:09     Friday  \n",
       "2  Saint-Petersburg  20:58:07  Wednesday  \n",
       "3  Saint-Petersburg  08:37:09     Monday  \n",
       "4            Moscow  08:34:34     Monday  \n",
       "5  Saint-Petersburg  13:09:41     Friday  \n",
       "6            Moscow  13:00:07  Wednesday  \n",
       "7            Moscow  20:47:49  Wednesday  \n",
       "8            Moscow  09:17:40     Friday  \n",
       "9  Saint-Petersburg  21:20:49  Wednesday  "
      ]
     },
     "execution_count": 3,
     "metadata": {},
     "output_type": "execute_result"
    }
   ],
   "source": [
    "# получение первых 10 строк таблицы df\n",
    "df.head(10)"
   ]
  },
  {
   "cell_type": "markdown",
   "metadata": {
    "id": "EO73Kwic_Zct"
   },
   "source": [
    "Одной командой получить общую информацию о таблице:"
   ]
  },
  {
   "cell_type": "code",
   "execution_count": 4,
   "metadata": {
    "id": "DSf2kIb-_Zct"
   },
   "outputs": [
    {
     "name": "stdout",
     "output_type": "stream",
     "text": [
      "<class 'pandas.core.frame.DataFrame'>\n",
      "RangeIndex: 65079 entries, 0 to 65078\n",
      "Data columns (total 7 columns):\n",
      "  userID    65079 non-null object\n",
      "Track       63848 non-null object\n",
      "artist      57876 non-null object\n",
      "genre       63881 non-null object\n",
      "  City      65079 non-null object\n",
      "time        65079 non-null object\n",
      "Day         65079 non-null object\n",
      "dtypes: object(7)\n",
      "memory usage: 3.5+ MB\n"
     ]
    }
   ],
   "source": [
    "# получение общей информации о данных в таблице df \n",
    "df.info()"
   ]
  },
  {
   "cell_type": "markdown",
   "metadata": {
    "id": "TaQ2Iwbr_Zct"
   },
   "source": [
    "Итак, в таблице семь столбцов. Тип данных во всех столбцах — `object`.\n",
    "\n",
    "Согласно документации к данным:\n",
    "* `userID` — идентификатор пользователя;\n",
    "* `Track` — название трека;  \n",
    "* `artist` — имя исполнителя;\n",
    "* `genre` — название жанра;\n",
    "* `City` — город пользователя;\n",
    "* `time` — время начала прослушивания;\n",
    "* `Day` — день недели.\n",
    "\n",
    "\n",
    "\n",
    "Количество значений в столбцах различается. Значит, в данных есть пропущенные значения.\n"
   ]
  },
  {
   "cell_type": "markdown",
   "metadata": {
    "id": "MCB6-dXG_Zct"
   },
   "source": [
    "**Выводы**\n",
    "\n",
    "В каждой строке таблицы — данные о прослушанном треке. Часть колонок описывает саму композицию: название, исполнителя и жанр. Остальные данные рассказывают о пользователе: из какого он города, когда он слушал музыку. \n",
    "\n",
    "Предварительно можно утверждать, что, данных достаточно для проверки гипотез. Но встречаются пропуски в данных, а в названиях колонок — расхождения с хорошим стилем.\n",
    "\n",
    "Чтобы двигаться дальше, нужно устранить проблемы в данных."
   ]
  },
  {
   "cell_type": "markdown",
   "metadata": {
    "id": "SjYF6Ub9_Zct"
   },
   "source": [
    "## Предобработка данных\n",
    "Исправьте стиль в заголовках столбцов, исключите пропуски. Затем проверьте данные на дубликаты."
   ]
  },
  {
   "cell_type": "markdown",
   "metadata": {
    "id": "dIaKXr29_Zct"
   },
   "source": [
    "### Стиль заголовков\n",
    "Выведите на экран названия столбцов:"
   ]
  },
  {
   "cell_type": "code",
   "execution_count": 5,
   "metadata": {
    "id": "oKOTdF_Q_Zct"
   },
   "outputs": [
    {
     "data": {
      "text/plain": [
       "Index(['  userID', 'Track', 'artist', 'genre', '  City  ', 'time', 'Day'], dtype='object')"
      ]
     },
     "execution_count": 5,
     "metadata": {},
     "output_type": "execute_result"
    }
   ],
   "source": [
    "# перечень названий столбцов таблицы df\n",
    "df.columns"
   ]
  },
  {
   "cell_type": "markdown",
   "metadata": {
    "id": "zj5534cv_Zct"
   },
   "source": [
    "Приведите названия в соответствие с хорошим стилем:\n",
    "* несколько слов в названии запишите в «змеином_регистре»,\n",
    "* все символы сделайте строчными,\n",
    "* устраните пробелы.\n",
    "\n",
    "Для этого переименуйте колонки так:\n",
    "* `'  userID'` → `'user_id'`;\n",
    "* `'Track'` → `'track'`;\n",
    "* `'  City  '` → `'city'`;\n",
    "* `'Day'` → `'day'`."
   ]
  },
  {
   "cell_type": "code",
   "execution_count": 6,
   "metadata": {
    "id": "ISlFqs5y_Zct"
   },
   "outputs": [],
   "source": [
    "# переименование столбцов\n",
    "df = df.rename(\n",
    "    columns={\n",
    "        '  userID': 'user_id',\n",
    "        'Track': 'track',\n",
    "        '  City  ': 'city',\n",
    "        'Day': 'day'\n",
    "    })"
   ]
  },
  {
   "cell_type": "markdown",
   "metadata": {
    "id": "1dqbh00J_Zct"
   },
   "source": [
    "Проверьте результат. Для этого ещё раз выведите на экран названия столбцов:"
   ]
  },
  {
   "cell_type": "code",
   "execution_count": 7,
   "metadata": {
    "id": "d4NOAmTW_Zct"
   },
   "outputs": [
    {
     "data": {
      "text/plain": [
       "Index(['user_id', 'track', 'artist', 'genre', 'city', 'time', 'day'], dtype='object')"
      ]
     },
     "execution_count": 7,
     "metadata": {},
     "output_type": "execute_result"
    }
   ],
   "source": [
    "# проверка результатов - перечень названий столбцов\n",
    "df.columns"
   ]
  },
  {
   "cell_type": "markdown",
   "metadata": {
    "id": "5ISfbcfY_Zct"
   },
   "source": [
    "### Пропуски значений\n",
    "Сначала посчитайте, сколько в таблице пропущенных значений. Для этого достаточно двух методов `pandas`:"
   ]
  },
  {
   "cell_type": "code",
   "execution_count": 8,
   "metadata": {
    "id": "RskX29qr_Zct"
   },
   "outputs": [
    {
     "data": {
      "text/plain": [
       "user_id       0\n",
       "track      1231\n",
       "artist     7203\n",
       "genre      1198\n",
       "city          0\n",
       "time          0\n",
       "day           0\n",
       "dtype: int64"
      ]
     },
     "execution_count": 8,
     "metadata": {},
     "output_type": "execute_result"
    }
   ],
   "source": [
    "# подсчёт пропусков\n",
    "df.isna().sum()"
   ]
  },
  {
   "cell_type": "markdown",
   "metadata": {
    "id": "qubhgnlO_Zct"
   },
   "source": [
    "Не все пропущенные значения влияют на исследование. Так в `track` и `artist` пропуски не важны для вашей работы. Достаточно заменить их явными обозначениями.\n",
    "\n",
    "Но пропуски в `genre` могут помешать сравнению музыкальных вкусов в Москве и Санкт-Петербурге. На практике было бы правильно установить причину пропусков и восстановить данные. Такой возможности нет в учебном проекте. Придётся:\n",
    "* заполнить и эти пропуски явными обозначениями,\n",
    "* оценить, насколько они повредят расчётам. "
   ]
  },
  {
   "cell_type": "markdown",
   "metadata": {
    "id": "fSv2laPA_Zct"
   },
   "source": [
    "Замените пропущенные значения в столбцах `track`, `artist` и `genre` на строку `'unknown'`. Для этого создайте список `columns_to_replace`, переберите его элементы циклом `for` и для каждого столбца выполните замену пропущенных значений:"
   ]
  },
  {
   "cell_type": "code",
   "execution_count": 9,
   "metadata": {
    "id": "KplB5qWs_Zct"
   },
   "outputs": [],
   "source": [
    "# перебор названий столбцов в цикле и замена пропущенных значений на 'unknown'\n",
    "columns_to_replace = ['track', 'artist', 'genre']\n",
    "for column in columns_to_replace:\n",
    "    df[column] = df[column].fillna('unknown')"
   ]
  },
  {
   "cell_type": "markdown",
   "metadata": {
    "id": "Ilsm-MZo_Zct"
   },
   "source": [
    "Убедитесь, что в таблице не осталось пропусков. Для этого ещё раз посчитайте пропущенные значения."
   ]
  },
  {
   "cell_type": "code",
   "execution_count": 10,
   "metadata": {
    "id": "Tq4nYRX4_Zct"
   },
   "outputs": [
    {
     "data": {
      "text/plain": [
       "user_id    0\n",
       "track      0\n",
       "artist     0\n",
       "genre      0\n",
       "city       0\n",
       "time       0\n",
       "day        0\n",
       "dtype: int64"
      ]
     },
     "execution_count": 10,
     "metadata": {},
     "output_type": "execute_result"
    }
   ],
   "source": [
    "# подсчёт пропусков\n",
    "df.isna().sum()"
   ]
  },
  {
   "cell_type": "markdown",
   "metadata": {
    "id": "BWKRtBJ3_Zct"
   },
   "source": [
    "### Дубликаты\n",
    "Посчитайте явные дубликаты в таблице одной командой:"
   ]
  },
  {
   "cell_type": "code",
   "execution_count": 11,
   "metadata": {
    "id": "36eES_S0_Zct"
   },
   "outputs": [
    {
     "data": {
      "text/plain": [
       "3826"
      ]
     },
     "execution_count": 11,
     "metadata": {},
     "output_type": "execute_result"
    }
   ],
   "source": [
    "# подсчёт явных дубликатов\n",
    "df.duplicated().sum()"
   ]
  },
  {
   "cell_type": "markdown",
   "metadata": {
    "id": "Ot25h6XR_Zct"
   },
   "source": [
    "Вызовите специальный метод `pandas`, чтобы удалить явные дубликаты:"
   ]
  },
  {
   "cell_type": "code",
   "execution_count": 12,
   "metadata": {
    "id": "exFHq6tt_Zct"
   },
   "outputs": [],
   "source": [
    "# удаление явных дубликатов (с удалением старых индексов и формированием новых)\n",
    "df = df.drop_duplicates().reset_index(drop=True)"
   ]
  },
  {
   "cell_type": "markdown",
   "metadata": {
    "id": "Im2YwBEG_Zct"
   },
   "source": [
    "Ещё раз посчитайте явные дубликаты в таблице — убедитесь, что полностью от них избавились:"
   ]
  },
  {
   "cell_type": "code",
   "execution_count": 13,
   "metadata": {
    "id": "-8PuNWQ0_Zct"
   },
   "outputs": [
    {
     "data": {
      "text/plain": [
       "0"
      ]
     },
     "execution_count": 13,
     "metadata": {},
     "output_type": "execute_result"
    }
   ],
   "source": [
    "# проверка на отсутствие дубликатов\n",
    "df.duplicated().sum()"
   ]
  },
  {
   "cell_type": "markdown",
   "metadata": {
    "id": "QlFBsxAr_Zct"
   },
   "source": [
    "Теперь избавьтесь от неявных дубликатов в колонке `genre`. Например, название одного и того же жанра может быть записано немного по-разному. Такие ошибки тоже повлияют на результат исследования."
   ]
  },
  {
   "cell_type": "markdown",
   "metadata": {
    "id": "eSjWwsOh_Zct"
   },
   "source": [
    "Выведите на экран список уникальных названий жанров, отсортированный в алфавитном порядке. Для этого:\n",
    "* извлеките нужный столбец датафрейма, \n",
    "* примените к нему метод сортировки,\n",
    "* для отсортированного столбца вызовите метод, который вернёт уникальные значения из столбца."
   ]
  },
  {
   "cell_type": "code",
   "execution_count": 14,
   "metadata": {
    "id": "JIUcqzZN_Zct"
   },
   "outputs": [
    {
     "data": {
      "text/plain": [
       "array(['acid', 'acoustic', 'action', 'adult', 'africa', 'afrikaans',\n",
       "       'alternative', 'alternativepunk', 'ambient', 'americana',\n",
       "       'animated', 'anime', 'arabesk', 'arabic', 'arena',\n",
       "       'argentinetango', 'art', 'audiobook', 'author', 'avantgarde',\n",
       "       'axé', 'baile', 'balkan', 'beats', 'bigroom', 'black', 'bluegrass',\n",
       "       'blues', 'bollywood', 'bossa', 'brazilian', 'breakbeat', 'breaks',\n",
       "       'broadway', 'cantautori', 'cantopop', 'canzone', 'caribbean',\n",
       "       'caucasian', 'celtic', 'chamber', 'chanson', 'children', 'chill',\n",
       "       'chinese', 'choral', 'christian', 'christmas', 'classical',\n",
       "       'classicmetal', 'club', 'colombian', 'comedy', 'conjazz',\n",
       "       'contemporary', 'country', 'cuban', 'dance', 'dancehall',\n",
       "       'dancepop', 'dark', 'death', 'deep', 'deutschrock', 'deutschspr',\n",
       "       'dirty', 'disco', 'dnb', 'documentary', 'downbeat', 'downtempo',\n",
       "       'drum', 'dub', 'dubstep', 'eastern', 'easy', 'electronic',\n",
       "       'electropop', 'emo', 'entehno', 'epicmetal', 'estrada', 'ethnic',\n",
       "       'eurofolk', 'european', 'experimental', 'extrememetal', 'fado',\n",
       "       'fairytail', 'film', 'fitness', 'flamenco', 'folk', 'folklore',\n",
       "       'folkmetal', 'folkrock', 'folktronica', 'forró', 'frankreich',\n",
       "       'französisch', 'french', 'funk', 'future', 'gangsta', 'garage',\n",
       "       'german', 'ghazal', 'gitarre', 'glitch', 'gospel', 'gothic',\n",
       "       'grime', 'grunge', 'gypsy', 'handsup', \"hard'n'heavy\", 'hardcore',\n",
       "       'hardstyle', 'hardtechno', 'hip', 'hip-hop', 'hiphop',\n",
       "       'historisch', 'holiday', 'hop', 'horror', 'house', 'hymn', 'idm',\n",
       "       'independent', 'indian', 'indie', 'indipop', 'industrial',\n",
       "       'inspirational', 'instrumental', 'international', 'irish', 'jam',\n",
       "       'japanese', 'jazz', 'jewish', 'jpop', 'jungle', 'k-pop',\n",
       "       'karadeniz', 'karaoke', 'kayokyoku', 'korean', 'laiko', 'latin',\n",
       "       'latino', 'leftfield', 'local', 'lounge', 'loungeelectronic',\n",
       "       'lovers', 'malaysian', 'mandopop', 'marschmusik', 'meditative',\n",
       "       'mediterranean', 'melodic', 'metal', 'metalcore', 'mexican',\n",
       "       'middle', 'minimal', 'miscellaneous', 'modern', 'mood', 'mpb',\n",
       "       'muslim', 'native', 'neoklassik', 'neue', 'new', 'newage',\n",
       "       'newwave', 'nu', 'nujazz', 'numetal', 'oceania', 'old', 'opera',\n",
       "       'orchestral', 'other', 'piano', 'podcasts', 'pop', 'popdance',\n",
       "       'popelectronic', 'popeurodance', 'poprussian', 'post',\n",
       "       'posthardcore', 'postrock', 'power', 'progmetal', 'progressive',\n",
       "       'psychedelic', 'punjabi', 'punk', 'quebecois', 'ragga', 'ram',\n",
       "       'rancheras', 'rap', 'rave', 'reggae', 'reggaeton', 'regional',\n",
       "       'relax', 'religious', 'retro', 'rhythm', 'rnb', 'rnr', 'rock',\n",
       "       'rockabilly', 'rockalternative', 'rockindie', 'rockother',\n",
       "       'romance', 'roots', 'ruspop', 'rusrap', 'rusrock', 'russian',\n",
       "       'salsa', 'samba', 'scenic', 'schlager', 'self', 'sertanejo',\n",
       "       'shanson', 'shoegazing', 'showtunes', 'singer', 'ska', 'skarock',\n",
       "       'slow', 'smooth', 'soft', 'soul', 'soulful', 'sound', 'soundtrack',\n",
       "       'southern', 'specialty', 'speech', 'spiritual', 'sport',\n",
       "       'stonerrock', 'surf', 'swing', 'synthpop', 'synthrock',\n",
       "       'sängerportrait', 'tango', 'tanzorchester', 'taraftar', 'tatar',\n",
       "       'tech', 'techno', 'teen', 'thrash', 'top', 'traditional',\n",
       "       'tradjazz', 'trance', 'tribal', 'trip', 'triphop', 'tropical',\n",
       "       'türk', 'türkçe', 'ukrrock', 'unknown', 'urban', 'uzbek',\n",
       "       'variété', 'vi', 'videogame', 'vocal', 'western', 'world',\n",
       "       'worldbeat', 'ïîï', 'электроника'], dtype=object)"
      ]
     },
     "execution_count": 14,
     "metadata": {},
     "output_type": "execute_result"
    }
   ],
   "source": [
    "# Просмотр уникальных названий жанров\n",
    "df = df.sort_values(by = 'genre') \n",
    "df['genre'].unique()"
   ]
  },
  {
   "cell_type": "markdown",
   "metadata": {
    "id": "qej-Qmuo_Zct"
   },
   "source": [
    "Просмотрите список и найдите неявные дубликаты названия `hiphop`. Это могут быть названия с ошибками или альтернативные названия того же жанра.\n",
    "\n",
    "Вы увидите следующие неявные дубликаты:\n",
    "* *hip*,\n",
    "* *hop*,\n",
    "* *hip-hop*.\n",
    "\n",
    "Чтобы очистить от них таблицу, напишите функцию `replace_wrong_genres()` с двумя параметрами: \n",
    "* `wrong_genres` — список дубликатов,\n",
    "* `correct_genre` — строка с правильным значением.\n",
    "\n",
    "Функция должна исправить колонку `genre` в таблице `df`: заменить каждое значение из списка `wrong_genres` на значение из `correct_genre`."
   ]
  },
  {
   "cell_type": "code",
   "execution_count": 15,
   "metadata": {
    "id": "ErNDkmns_Zct"
   },
   "outputs": [],
   "source": [
    "# Функция для замены неявных дубликатов\n",
    "wrong_genres = ['hip', 'hip-hop', 'hop']\n",
    "correct_genre = 'hiphop'\n",
    "def replace_wrong_genres(wrong_genres, correct_genre):\n",
    "    for wrong in wrong_genres:\n",
    "        df['genre'] = df['genre'].replace(wrong, correct_genre)\n",
    "    return df['genre']\n"
   ]
  },
  {
   "cell_type": "markdown",
   "metadata": {
    "id": "aDoBJxbA_Zct"
   },
   "source": [
    "Вызовите `replace_wrong_genres()` и передайте ей такие аргументы, чтобы она устранила неявные дубликаты: вместо `hip`, `hop` и `hip-hop` в таблице должно быть значение `hiphop`:"
   ]
  },
  {
   "cell_type": "code",
   "execution_count": 16,
   "metadata": {
    "id": "YN5i2hpmSo09"
   },
   "outputs": [
    {
     "data": {
      "text/plain": [
       "31916           acid\n",
       "57580       acoustic\n",
       "3636        acoustic\n",
       "14611       acoustic\n",
       "20264       acoustic\n",
       "            ...     \n",
       "41879          world\n",
       "39063      worldbeat\n",
       "27939      worldbeat\n",
       "8448             ïîï\n",
       "6465     электроника\n",
       "Name: genre, Length: 61253, dtype: object"
      ]
     },
     "execution_count": 16,
     "metadata": {},
     "output_type": "execute_result"
    }
   ],
   "source": [
    "# Устранение неявных дубликатов\n",
    "replace_wrong_genres(wrong_genres, correct_genre)\n"
   ]
  },
  {
   "cell_type": "markdown",
   "metadata": {
    "id": "zQKF16_RG15m"
   },
   "source": [
    "Проверьте, что заменили неправильные названия:\n",
    "\n",
    "*   hip\n",
    "*   hop\n",
    "*   hip-hop\n",
    "\n",
    "Выведите отсортированный список уникальных значений столбца `genre`:"
   ]
  },
  {
   "cell_type": "code",
   "execution_count": 17,
   "metadata": {
    "id": "wvixALnFG15m"
   },
   "outputs": [
    {
     "data": {
      "text/plain": [
       "array(['acid', 'acoustic', 'action', 'adult', 'africa', 'afrikaans',\n",
       "       'alternative', 'alternativepunk', 'ambient', 'americana',\n",
       "       'animated', 'anime', 'arabesk', 'arabic', 'arena',\n",
       "       'argentinetango', 'art', 'audiobook', 'author', 'avantgarde',\n",
       "       'axé', 'baile', 'balkan', 'beats', 'bigroom', 'black', 'bluegrass',\n",
       "       'blues', 'bollywood', 'bossa', 'brazilian', 'breakbeat', 'breaks',\n",
       "       'broadway', 'cantautori', 'cantopop', 'canzone', 'caribbean',\n",
       "       'caucasian', 'celtic', 'chamber', 'chanson', 'children', 'chill',\n",
       "       'chinese', 'choral', 'christian', 'christmas', 'classical',\n",
       "       'classicmetal', 'club', 'colombian', 'comedy', 'conjazz',\n",
       "       'contemporary', 'country', 'cuban', 'dance', 'dancehall',\n",
       "       'dancepop', 'dark', 'death', 'deep', 'deutschrock', 'deutschspr',\n",
       "       'dirty', 'disco', 'dnb', 'documentary', 'downbeat', 'downtempo',\n",
       "       'drum', 'dub', 'dubstep', 'eastern', 'easy', 'electronic',\n",
       "       'electropop', 'emo', 'entehno', 'epicmetal', 'estrada', 'ethnic',\n",
       "       'eurofolk', 'european', 'experimental', 'extrememetal', 'fado',\n",
       "       'fairytail', 'film', 'fitness', 'flamenco', 'folk', 'folklore',\n",
       "       'folkmetal', 'folkrock', 'folktronica', 'forró', 'frankreich',\n",
       "       'französisch', 'french', 'funk', 'future', 'gangsta', 'garage',\n",
       "       'german', 'ghazal', 'gitarre', 'glitch', 'gospel', 'gothic',\n",
       "       'grime', 'grunge', 'gypsy', 'handsup', \"hard'n'heavy\", 'hardcore',\n",
       "       'hardstyle', 'hardtechno', 'hiphop', 'historisch', 'holiday',\n",
       "       'horror', 'house', 'hymn', 'idm', 'independent', 'indian', 'indie',\n",
       "       'indipop', 'industrial', 'inspirational', 'instrumental',\n",
       "       'international', 'irish', 'jam', 'japanese', 'jazz', 'jewish',\n",
       "       'jpop', 'jungle', 'k-pop', 'karadeniz', 'karaoke', 'kayokyoku',\n",
       "       'korean', 'laiko', 'latin', 'latino', 'leftfield', 'local',\n",
       "       'lounge', 'loungeelectronic', 'lovers', 'malaysian', 'mandopop',\n",
       "       'marschmusik', 'meditative', 'mediterranean', 'melodic', 'metal',\n",
       "       'metalcore', 'mexican', 'middle', 'minimal', 'miscellaneous',\n",
       "       'modern', 'mood', 'mpb', 'muslim', 'native', 'neoklassik', 'neue',\n",
       "       'new', 'newage', 'newwave', 'nu', 'nujazz', 'numetal', 'oceania',\n",
       "       'old', 'opera', 'orchestral', 'other', 'piano', 'podcasts', 'pop',\n",
       "       'popdance', 'popelectronic', 'popeurodance', 'poprussian', 'post',\n",
       "       'posthardcore', 'postrock', 'power', 'progmetal', 'progressive',\n",
       "       'psychedelic', 'punjabi', 'punk', 'quebecois', 'ragga', 'ram',\n",
       "       'rancheras', 'rap', 'rave', 'reggae', 'reggaeton', 'regional',\n",
       "       'relax', 'religious', 'retro', 'rhythm', 'rnb', 'rnr', 'rock',\n",
       "       'rockabilly', 'rockalternative', 'rockindie', 'rockother',\n",
       "       'romance', 'roots', 'ruspop', 'rusrap', 'rusrock', 'russian',\n",
       "       'salsa', 'samba', 'scenic', 'schlager', 'self', 'sertanejo',\n",
       "       'shanson', 'shoegazing', 'showtunes', 'singer', 'ska', 'skarock',\n",
       "       'slow', 'smooth', 'soft', 'soul', 'soulful', 'sound', 'soundtrack',\n",
       "       'southern', 'specialty', 'speech', 'spiritual', 'sport',\n",
       "       'stonerrock', 'surf', 'swing', 'synthpop', 'synthrock',\n",
       "       'sängerportrait', 'tango', 'tanzorchester', 'taraftar', 'tatar',\n",
       "       'tech', 'techno', 'teen', 'thrash', 'top', 'traditional',\n",
       "       'tradjazz', 'trance', 'tribal', 'trip', 'triphop', 'tropical',\n",
       "       'türk', 'türkçe', 'ukrrock', 'unknown', 'urban', 'uzbek',\n",
       "       'variété', 'vi', 'videogame', 'vocal', 'western', 'world',\n",
       "       'worldbeat', 'ïîï', 'электроника'], dtype=object)"
      ]
     },
     "execution_count": 17,
     "metadata": {},
     "output_type": "execute_result"
    }
   ],
   "source": [
    "# Проверка на неявные дубликаты\n",
    "df['genre'].unique()"
   ]
  },
  {
   "cell_type": "markdown",
   "metadata": {
    "id": "jz6a9-7HQUDd"
   },
   "source": [
    "**Выводы**\n",
    "\n",
    "Предобработка обнаружила три проблемы в данных:\n",
    "\n",
    "- нарушения в стиле заголовков,\n",
    "- пропущенные значения,\n",
    "- дубликаты — явные и неявные.\n",
    "\n",
    "Вы исправили заголовки, чтобы упростить работу с таблицей. Без дубликатов исследование станет более точным.\n",
    "\n",
    "Пропущенные значения вы заменили на `'unknown'`. Ещё предстоит увидеть, не повредят ли исследованию пропуски в колонке `genre`.\n",
    "\n",
    "Теперь можно перейти к проверке гипотез. "
   ]
  },
  {
   "cell_type": "markdown",
   "metadata": {
    "id": "WttZHXH0SqKk"
   },
   "source": [
    "## Проверка гипотез"
   ]
  },
  {
   "cell_type": "markdown",
   "metadata": {
    "id": "Im936VVi_Zcu"
   },
   "source": [
    "### Сравнение поведения пользователей двух столиц"
   ]
  },
  {
   "cell_type": "markdown",
   "metadata": {
    "id": "nwt_MuaL_Zcu"
   },
   "source": [
    "Первая гипотеза утверждает, что пользователи по-разному слушают музыку в Москве и Санкт-Петербурге. Проверьте это предположение по данным о трёх днях недели — понедельнике, среде и пятнице. Для этого:\n",
    "\n",
    "* Разделите пользователей Москвы и Санкт-Петербурга\n",
    "* Сравните, сколько треков послушала каждая группа пользователей в понедельник, среду и пятницу.\n"
   ]
  },
  {
   "cell_type": "markdown",
   "metadata": {
    "id": "8Dw_YMmT_Zcu"
   },
   "source": [
    "Для тренировки сначала выполните каждый из расчётов по отдельности. \n",
    "\n",
    "Оцените активность пользователей в каждом городе. Сгруппируйте данные по городу и посчитайте прослушивания в каждой группе.\n",
    "\n"
   ]
  },
  {
   "cell_type": "code",
   "execution_count": 18,
   "metadata": {
    "id": "0_Qs96oh_Zcu"
   },
   "outputs": [
    {
     "data": {
      "text/plain": [
       "city\n",
       "Moscow              42741\n",
       "Saint-Petersburg    18512\n",
       "Name: genre, dtype: int64"
      ]
     },
     "execution_count": 18,
     "metadata": {},
     "output_type": "execute_result"
    }
   ],
   "source": [
    "# Подсчёт прослушиваний в каждом городе\n",
    "df.groupby('city')['genre'].count()"
   ]
  },
  {
   "cell_type": "markdown",
   "metadata": {
    "id": "dzli3w8o_Zcu"
   },
   "source": [
    "В Москве прослушиваний больше, чем в Петербурге. Из этого не следует, что московские пользователи чаще слушают музыку. Просто самих пользователей в Москве больше.\n",
    "\n",
    "Теперь сгруппируйте данные по дню недели и подсчитайте прослушивания в понедельник, среду и пятницу. Учтите, что в данных есть информация только о прослушиваниях только за эти дни.\n"
   ]
  },
  {
   "cell_type": "code",
   "execution_count": 19,
   "metadata": {
    "id": "uZMKjiJz_Zcu"
   },
   "outputs": [
    {
     "data": {
      "text/plain": [
       "day\n",
       "Friday       21840\n",
       "Monday       21354\n",
       "Wednesday    18059\n",
       "Name: genre, dtype: int64"
      ]
     },
     "execution_count": 19,
     "metadata": {},
     "output_type": "execute_result"
    }
   ],
   "source": [
    "# Подсчёт прослушиваний в каждый из трёх дней\n",
    "df.groupby('day')['genre'].count()"
   ]
  },
  {
   "cell_type": "markdown",
   "metadata": {
    "id": "cC2tNrlL_Zcu"
   },
   "source": [
    "В среднем пользователи из двух городов менее активны по средам. Но картина может измениться, если рассмотреть каждый город в отдельности."
   ]
  },
  {
   "cell_type": "markdown",
   "metadata": {
    "id": "POzs8bGa_Zcu"
   },
   "source": [
    "Вы видели, как работает группировка по городу и по дням недели. Теперь напишите функцию, которая объединит два эти расчёта.\n",
    "\n",
    "Создайте функцию `number_tracks()`, которая посчитает прослушивания для заданного дня и города. Ей понадобятся два параметра:\n",
    "* день недели,\n",
    "* название города.\n",
    "\n",
    "В функции сохраните в переменную строки исходной таблицы, у которых значение:\n",
    "  * в колонке `day` равно параметру `day`,\n",
    "  * в колонке `city` равно параметру `city`.\n",
    "\n",
    "Для этого примените последовательную фильтрацию с логической индексацией.\n",
    "\n",
    "Затем посчитайте значения в столбце `user_id` получившейся таблицы. Результат сохраните в новую переменную. Верните эту переменную из функции."
   ]
  },
  {
   "cell_type": "code",
   "execution_count": 20,
   "metadata": {
    "id": "Nz3GdQB1_Zcu"
   },
   "outputs": [],
   "source": [
    "# Объявляется функция с двумя параметрами: day, city.\n",
    "# В переменной track_list сохраняются те строки таблицы df, для которых \n",
    "# значение в столбце 'day' равно параметру day и одновременно значение\n",
    "# в столбце 'city' равно параметру city (используйте последовательную фильтрацию\n",
    "# с помощью логической индексации).\n",
    "# В переменной track_list_count сохраняется число значений столбца 'user_id',\n",
    "# рассчитанное методом count() для таблицы track_list.\n",
    "# Функция возвращает число - значение track_list_count.\n",
    "\n",
    "# Функция для подсчёта прослушиваний для конкретного города и дня.\n",
    "# С помощью последовательной фильтрации с логической индексацией она \n",
    "# сначала получит из исходной таблицы строки с нужным днём,\n",
    "# затем из результата отфильтрует строки с нужным городом,\n",
    "# методом count() посчитает количество значений в колонке user_id. \n",
    "# Это количество функция вернёт в качестве результата\n",
    "# <создание функции number_tracks()>\n",
    "\n",
    "def number_tracks(day, city):\n",
    "    track_list = df[(df['day']==day) & (df['city']==city)]\n",
    "    track_list_count = track_list['user_id'].count()\n",
    "    return track_list_count"
   ]
  },
  {
   "cell_type": "markdown",
   "metadata": {
    "id": "ytf7xFrFJQ2r"
   },
   "source": [
    "Вызовите `number_tracks()` шесть раз, меняя значение параметров — так, чтобы получить данные для каждого города в каждый из трёх дней."
   ]
  },
  {
   "cell_type": "code",
   "execution_count": 21,
   "metadata": {
    "id": "rJcRATNQ_Zcu"
   },
   "outputs": [
    {
     "data": {
      "text/plain": [
       "15740"
      ]
     },
     "execution_count": 21,
     "metadata": {},
     "output_type": "execute_result"
    }
   ],
   "source": [
    "# количество прослушиваний в Москве по понедельникам\n",
    "number_tracks('Monday', 'Moscow')"
   ]
  },
  {
   "cell_type": "code",
   "execution_count": 22,
   "metadata": {
    "id": "hq_ncZ5T_Zcu"
   },
   "outputs": [
    {
     "data": {
      "text/plain": [
       "5614"
      ]
     },
     "execution_count": 22,
     "metadata": {},
     "output_type": "execute_result"
    }
   ],
   "source": [
    "# количество прослушиваний в Санкт-Петербурге по понедельникам \n",
    "number_tracks('Monday','Saint-Petersburg')"
   ]
  },
  {
   "cell_type": "code",
   "execution_count": 23,
   "metadata": {
    "id": "_NTy2VPU_Zcu"
   },
   "outputs": [
    {
     "data": {
      "text/plain": [
       "11056"
      ]
     },
     "execution_count": 23,
     "metadata": {},
     "output_type": "execute_result"
    }
   ],
   "source": [
    "# количество прослушиваний в Москве по средам\n",
    "number_tracks('Wednesday', 'Moscow')"
   ]
  },
  {
   "cell_type": "code",
   "execution_count": 24,
   "metadata": {
    "id": "j2y3TAwo_Zcu"
   },
   "outputs": [
    {
     "data": {
      "text/plain": [
       "7003"
      ]
     },
     "execution_count": 24,
     "metadata": {},
     "output_type": "execute_result"
    }
   ],
   "source": [
    "# количество прослушиваний в Санкт-Петербурге по средам\n",
    "number_tracks('Wednesday','Saint-Petersburg')"
   ]
  },
  {
   "cell_type": "code",
   "execution_count": 25,
   "metadata": {
    "id": "vYDw5u_K_Zcu"
   },
   "outputs": [
    {
     "data": {
      "text/plain": [
       "15945"
      ]
     },
     "execution_count": 25,
     "metadata": {},
     "output_type": "execute_result"
    }
   ],
   "source": [
    "# количество прослушиваний в Москве по пятницам \n",
    "number_tracks('Friday', 'Moscow')"
   ]
  },
  {
   "cell_type": "code",
   "execution_count": 26,
   "metadata": {
    "id": "8_yzFtW3_Zcu"
   },
   "outputs": [
    {
     "data": {
      "text/plain": [
       "5895"
      ]
     },
     "execution_count": 26,
     "metadata": {},
     "output_type": "execute_result"
    }
   ],
   "source": [
    "# количество прослушиваний в Санкт-Петербурге по пятницам \n",
    "number_tracks('Friday','Saint-Petersburg')"
   ]
  },
  {
   "cell_type": "markdown",
   "metadata": {
    "id": "7QXffbO-_Zcu"
   },
   "source": [
    "Создайте c помощью конструктора `pd.DataFrame` таблицу, где\n",
    "* названия колонок — `['city', 'monday', 'wednesday', 'friday']`;\n",
    "* данные — результаты, которые вы получили с помощью `number_tracks`."
   ]
  },
  {
   "cell_type": "code",
   "execution_count": 27,
   "metadata": {
    "id": "APAcLpOr_Zcu"
   },
   "outputs": [
    {
     "data": {
      "text/html": [
       "<div>\n",
       "<style scoped>\n",
       "    .dataframe tbody tr th:only-of-type {\n",
       "        vertical-align: middle;\n",
       "    }\n",
       "\n",
       "    .dataframe tbody tr th {\n",
       "        vertical-align: top;\n",
       "    }\n",
       "\n",
       "    .dataframe thead th {\n",
       "        text-align: right;\n",
       "    }\n",
       "</style>\n",
       "<table border=\"1\" class=\"dataframe\">\n",
       "  <thead>\n",
       "    <tr style=\"text-align: right;\">\n",
       "      <th></th>\n",
       "      <th>city</th>\n",
       "      <th>monday</th>\n",
       "      <th>wednesday</th>\n",
       "      <th>friday</th>\n",
       "    </tr>\n",
       "  </thead>\n",
       "  <tbody>\n",
       "    <tr>\n",
       "      <td>0</td>\n",
       "      <td>Moscow</td>\n",
       "      <td>15740</td>\n",
       "      <td>11056</td>\n",
       "      <td>15945</td>\n",
       "    </tr>\n",
       "    <tr>\n",
       "      <td>1</td>\n",
       "      <td>Saint-Petersburg</td>\n",
       "      <td>5614</td>\n",
       "      <td>7003</td>\n",
       "      <td>5895</td>\n",
       "    </tr>\n",
       "  </tbody>\n",
       "</table>\n",
       "</div>"
      ],
      "text/plain": [
       "               city  monday  wednesday  friday\n",
       "0            Moscow   15740      11056   15945\n",
       "1  Saint-Petersburg    5614       7003    5895"
      ]
     },
     "metadata": {},
     "output_type": "display_data"
    }
   ],
   "source": [
    "# Таблица с результатами \n",
    "data = [['Moscow', 15740, 11056, 15945],\n",
    "       ['Saint-Petersburg', 5614, 7003, 5895]]\n",
    "columns = ['city','monday','wednesday','friday']\n",
    "table = pd.DataFrame(data = data, columns = columns)\n",
    "display(table)"
   ]
  },
  {
   "cell_type": "markdown",
   "metadata": {
    "id": "-EgPIHYu_Zcu"
   },
   "source": [
    "**Выводы**\n",
    "\n",
    "Данные показывают разницу поведения пользователей:\n",
    "\n",
    "- В Москве пик прослушиваний приходится на понедельник и пятницу, а в среду заметен спад.\n",
    "- В Петербурге, наоборот, больше слушают музыку по средам. Активность в понедельник и пятницу здесь почти в равной мере уступает среде.\n",
    "\n",
    "Значит, данные говорят в пользу первой гипотезы."
   ]
  },
  {
   "cell_type": "markdown",
   "metadata": {
    "id": "atZAxtq4_Zcu"
   },
   "source": [
    "### Музыка в начале и в конце недели"
   ]
  },
  {
   "cell_type": "markdown",
   "metadata": {
    "id": "eXrQqXFH_Zcu"
   },
   "source": [
    "Согласно второй гипотезе, утром в понедельник в Москве преобладают одни жанры, а в Петербурге — другие. Так же и вечером пятницы преобладают разные жанры — в зависимости от города."
   ]
  },
  {
   "cell_type": "markdown",
   "metadata": {
    "id": "S8UcW6Hw_Zcu"
   },
   "source": [
    "Сохраните таблицы с данными в две переменные:\n",
    "* по Москве — в `moscow_general`;\n",
    "* по Санкт-Петербургу — в `spb_general`."
   ]
  },
  {
   "cell_type": "code",
   "execution_count": 28,
   "metadata": {
    "id": "qeaFfM_P_Zcu"
   },
   "outputs": [],
   "source": [
    "# получение таблицы moscow_general из тех строк таблицы df, \n",
    "# для которых значение в столбце 'city' равно 'Moscow'\n",
    "moscow_general = df[df['city'] == 'Moscow']\n"
   ]
  },
  {
   "cell_type": "code",
   "execution_count": 29,
   "metadata": {
    "id": "ORaVRKto_Zcu"
   },
   "outputs": [],
   "source": [
    "# получение таблицы spb_general из тех строк таблицы df,\n",
    "# для которых значение в столбце 'city' равно 'Saint-Petersburg'\n",
    "spb_general = df[df['city']=='Saint-Petersburg']\n"
   ]
  },
  {
   "cell_type": "markdown",
   "metadata": {
    "id": "MEJV-CX2_Zcu"
   },
   "source": [
    "Создайте функцию `genre_weekday()` с четырьмя параметрами:\n",
    "* таблица (датафрейм) с данными,\n",
    "* день недели,\n",
    "* начальная временная метка в формате 'hh:mm', \n",
    "* последняя временная метка в формате 'hh:mm'.\n",
    "\n",
    "Функция должна вернуть информацию о топ-10 жанров тех треков, которые прослушивали в указанный день, в промежутке между двумя отметками времени."
   ]
  },
  {
   "cell_type": "code",
   "execution_count": 30,
   "metadata": {
    "id": "laJT9BYl_Zcu"
   },
   "outputs": [],
   "source": [
    "# Объявление функции genre_weekday() с параметрами table, day, time1, time2, которая возвращает информацию о самых популярных жанрах в указанный день в\n",
    "# заданное время:\n",
    "# 1) в переменную genre_df сохраняются те строки переданного датафрейма table, для\n",
    "#    которых одновременно:\n",
    "#    - значение в столбце day равно значению аргумента day\n",
    "#    - значение в столбце time больше значения аргумента time1\n",
    "#    - значение в столбце time меньше значения аргумента time2\n",
    "#    Используйте последовательную фильтрацию с помощью логической индексации.\n",
    "# 2) сгруппировать датафрейм genre_df по столбцу genre, взять один из его\n",
    "#    столбцов и посчитать методом count() количество записей для каждого из\n",
    "#    присутствующих жанров, получившийся Series записать в переменную\n",
    "#    genre_df_count\n",
    "# 3) отсортировать genre_df_count по убыванию встречаемости и сохранить\n",
    "#    в переменную genre_df_sorted\n",
    "# 4) вернуть Series из 10 первых значений genre_df_sorted, это будут топ-10\n",
    "#    популярных жанров (в указанный день, в заданное время)\n",
    "def genre_weekday(table, day, time1, time2):\n",
    "    genre_df = table[(table['day']==day) & (table['time']>time1)& (table['time']<=time2)]\n",
    "    genre_df_count = genre_df.groupby('genre')['genre'].count()\n",
    "    genre_df_sorted = genre_df_count.sort_values(ascending = False)\n",
    "    return genre_df_sorted.head(10)"
   ]
  },
  {
   "cell_type": "markdown",
   "metadata": {
    "id": "la2s2_PF_Zcu"
   },
   "source": [
    "Cравните результаты функции `genre_weekday()` для Москвы и Санкт-Петербурга в понедельник утром (с 7:00 до 11:00) и в пятницу вечером (с 17:00 до 23:00):"
   ]
  },
  {
   "cell_type": "code",
   "execution_count": 31,
   "metadata": {
    "id": "yz7itPUQ_Zcu"
   },
   "outputs": [
    {
     "data": {
      "text/plain": [
       "genre\n",
       "pop            781\n",
       "dance          549\n",
       "electronic     480\n",
       "rock           474\n",
       "hiphop         286\n",
       "ruspop         186\n",
       "world          181\n",
       "rusrap         175\n",
       "alternative    164\n",
       "unknown        161\n",
       "Name: genre, dtype: int64"
      ]
     },
     "execution_count": 31,
     "metadata": {},
     "output_type": "execute_result"
    }
   ],
   "source": [
    "# вызов функции для утра понедельника в Москве (вместо df — таблица moscow_general)\n",
    "# объекты, хранящие время, являются строками и сравниваются как строки\n",
    "# пример вызова: genre_weekday(moscow_general, 'Monday', '07:00', '11:00')\n",
    "genre_weekday(moscow_general, 'Monday', '07:00', '11:00')"
   ]
  },
  {
   "cell_type": "code",
   "execution_count": 32,
   "metadata": {
    "id": "kwUcHPdy_Zcu"
   },
   "outputs": [
    {
     "data": {
      "text/plain": [
       "genre\n",
       "pop            218\n",
       "dance          182\n",
       "rock           162\n",
       "electronic     147\n",
       "hiphop          80\n",
       "ruspop          64\n",
       "alternative     58\n",
       "rusrap          55\n",
       "jazz            44\n",
       "classical       40\n",
       "Name: genre, dtype: int64"
      ]
     },
     "execution_count": 32,
     "metadata": {},
     "output_type": "execute_result"
    }
   ],
   "source": [
    "# вызов функции для утра понедельника в Петербурге (вместо df — таблица spb_general)\n",
    "genre_weekday(spb_general, 'Monday', '07:00', '11:00')"
   ]
  },
  {
   "cell_type": "code",
   "execution_count": 33,
   "metadata": {
    "id": "EzXVRE1o_Zcu"
   },
   "outputs": [
    {
     "data": {
      "text/plain": [
       "genre\n",
       "pop            713\n",
       "rock           517\n",
       "dance          495\n",
       "electronic     482\n",
       "hiphop         273\n",
       "world          208\n",
       "ruspop         170\n",
       "alternative    163\n",
       "classical      163\n",
       "rusrap         142\n",
       "Name: genre, dtype: int64"
      ]
     },
     "execution_count": 33,
     "metadata": {},
     "output_type": "execute_result"
    }
   ],
   "source": [
    "# вызов функции для вечера пятницы в Москве\n",
    "genre_weekday(moscow_general, 'Friday', '17:00', '23:00')"
   ]
  },
  {
   "cell_type": "code",
   "execution_count": 34,
   "metadata": {
    "id": "JZaEKu5v_Zcu"
   },
   "outputs": [
    {
     "data": {
      "text/plain": [
       "genre\n",
       "pop            256\n",
       "rock           216\n",
       "electronic     216\n",
       "dance          210\n",
       "hiphop          97\n",
       "alternative     63\n",
       "jazz            61\n",
       "classical       60\n",
       "rusrap          59\n",
       "world           54\n",
       "Name: genre, dtype: int64"
      ]
     },
     "execution_count": 34,
     "metadata": {},
     "output_type": "execute_result"
    }
   ],
   "source": [
    "# вызов функции для вечера пятницы в Петербурге\n",
    "genre_weekday(spb_general, 'Friday', '17:00', '23:00')"
   ]
  },
  {
   "cell_type": "markdown",
   "metadata": {
    "id": "wrCe4MNX_Zcu"
   },
   "source": [
    "**Выводы**\n",
    "\n",
    "Если сравнить топ-10 жанров в понедельник утром, можно сделать такие выводы:\n",
    "\n",
    "1. В Москве и Петербурге слушают похожую музыку. Единственное отличие — в московский рейтинг вошёл жанр “world”, а в петербургский — джаз и классика.\n",
    "\n",
    "2. В Москве пропущенных значений оказалось так много, что значение `'unknown'` заняло десятое место среди самых популярных жанров. Значит, пропущенные значения занимают существенную долю в данных и угрожают достоверности исследования.\n",
    "\n",
    "Вечер пятницы не меняет эту картину. Некоторые жанры поднимаются немного выше, другие спускаются, но в целом топ-10 остаётся тем же самым.\n",
    "\n",
    "Таким образом, вторая гипотеза подтвердилась лишь частично:\n",
    "* Пользователи слушают похожую музыку в начале недели и в конце.\n",
    "* Разница между Москвой и Петербургом не слишком выражена. В Москве чаще слушают русскую популярную музыку, в Петербурге — джаз.\n",
    "\n",
    "Однако пропуски в данных ставят под сомнение этот результат. В Москве их так много, что рейтинг топ-10 мог бы выглядеть иначе, если бы не утерянные  данные о жанрах."
   ]
  },
  {
   "cell_type": "markdown",
   "metadata": {
    "id": "JolODAqr_Zcu"
   },
   "source": [
    "### Жанровые предпочтения в Москве и Петербурге\n",
    "\n",
    "Гипотеза: Петербург — столица рэпа, музыку этого жанра там слушают чаще, чем в Москве.  А Москва — город контрастов, в котором, тем не менее, преобладает поп-музыка."
   ]
  },
  {
   "cell_type": "markdown",
   "metadata": {
    "id": "DlegSvaT_Zcu"
   },
   "source": [
    "Сгруппируйте таблицу `moscow_general` по жанру и посчитайте прослушивания треков каждого жанра методом `count()`. Затем отсортируйте результат в порядке убывания и сохраните его в таблице `moscow_genres`."
   ]
  },
  {
   "cell_type": "code",
   "execution_count": 35,
   "metadata": {
    "id": "r19lIPke_Zcu"
   },
   "outputs": [],
   "source": [
    "# одной строкой: группировка таблицы moscow_general по столбцу 'genre', \n",
    "# подсчёт числа значений 'genre' в этой группировке методом count(), \n",
    "# сортировка получившегося Series в порядке убывания и сохранение в moscow_genres\n",
    "moscow_genres = moscow_general.groupby('genre')['genre'].count().sort_values(ascending = False)"
   ]
  },
  {
   "cell_type": "markdown",
   "metadata": {
    "id": "6kMuomxTiIr8"
   },
   "source": [
    "Выведите на экран первые десять строк `moscow_genres`:"
   ]
  },
  {
   "cell_type": "code",
   "execution_count": 36,
   "metadata": {
    "id": "WhCSooF8_Zcv"
   },
   "outputs": [
    {
     "data": {
      "text/plain": [
       "genre\n",
       "pop            5892\n",
       "dance          4435\n",
       "rock           3965\n",
       "electronic     3786\n",
       "hiphop         2096\n",
       "classical      1616\n",
       "world          1432\n",
       "alternative    1379\n",
       "ruspop         1372\n",
       "rusrap         1161\n",
       "Name: genre, dtype: int64"
      ]
     },
     "execution_count": 36,
     "metadata": {},
     "output_type": "execute_result"
    }
   ],
   "source": [
    "# просмотр первых 10 строк moscow_genres\n",
    "moscow_genres.head(10)"
   ]
  },
  {
   "cell_type": "markdown",
   "metadata": {
    "id": "cnPG2vnN_Zcv"
   },
   "source": [
    "Теперь повторите то же и для Петербурга.\n",
    "\n",
    "Сгруппируйте таблицу `spb_general` по жанру. Посчитайте прослушивания треков каждого жанра. Результат отсортируйте в порядке убывания и сохраните в таблице `spb_genres`:\n"
   ]
  },
  {
   "cell_type": "code",
   "execution_count": 37,
   "metadata": {
    "id": "gluLIpE7_Zcv"
   },
   "outputs": [],
   "source": [
    "# одной строкой: группировка таблицы spb_general по столбцу 'genre', \n",
    "# подсчёт числа значений 'genre' в этой группировке методом count(), \n",
    "# сортировка получившегося Series в порядке убывания и сохранение в spb_genres\n",
    "spb_genres = spb_general.groupby('genre')['genre'].count().sort_values(ascending = False)"
   ]
  },
  {
   "cell_type": "markdown",
   "metadata": {
    "id": "5Doha_ODgyQ8"
   },
   "source": [
    "Выведите на экран первые десять строк `spb_genres`:"
   ]
  },
  {
   "cell_type": "code",
   "execution_count": 38,
   "metadata": {
    "id": "uaGJHjVU_Zcv"
   },
   "outputs": [
    {
     "data": {
      "text/plain": [
       "genre\n",
       "pop            2431\n",
       "dance          1932\n",
       "rock           1879\n",
       "electronic     1736\n",
       "hiphop          960\n",
       "alternative     649\n",
       "classical       646\n",
       "rusrap          564\n",
       "ruspop          538\n",
       "world           515\n",
       "Name: genre, dtype: int64"
      ]
     },
     "execution_count": 38,
     "metadata": {},
     "output_type": "execute_result"
    }
   ],
   "source": [
    "# просмотр первых 10 строк spb_genres\n",
    "spb_genres.head(10)"
   ]
  },
  {
   "cell_type": "markdown",
   "metadata": {
    "id": "RY51YJYu_Zcv"
   },
   "source": [
    "**Выводы**"
   ]
  },
  {
   "cell_type": "markdown",
   "metadata": {
    "id": "nVhnJEm__Zcv"
   },
   "source": [
    "Гипотеза частично подтвердилась:\n",
    "* Поп-музыка — самый популярный жанр в Москве, как и предполагала гипотеза. Более того, в топ-10 жанров встречается близкий жанр — русская популярная музыка.\n",
    "* Вопреки ожиданиям, рэп одинаково популярен в Москве и Петербурге. \n"
   ]
  },
  {
   "cell_type": "markdown",
   "metadata": {
    "id": "ykKQ0N65_Zcv"
   },
   "source": [
    "## Итоги исследования"
   ]
  },
  {
   "cell_type": "markdown",
   "metadata": {
    "id": "tjUwbHb3_Zcv"
   },
   "source": [
    "Вы проверили три гипотезы и установили:\n",
    "\n",
    "1. День недели по-разному влияет на активность пользователей в Москве и Петербурге. \n",
    "\n",
    "Первая гипотеза полностью подтвердилась.\n",
    "\n",
    "2. Музыкальные предпочтения не сильно меняются в течение недели — будь то Москва или Петербург. Небольшие различия заметны в начале недели, по понедельникам:\n",
    "* в Москве слушают музыку жанра “world”,\n",
    "* в Петербурге — джаз и классику.\n",
    "\n",
    "Таким образом, вторая гипотеза подтвердилась лишь отчасти. Этот результат мог оказаться иным, если бы не пропуски в данных.\n",
    "\n",
    "3. Во вкусах пользователей Москвы и Петербурга больше общего чем различий. Вопреки ожиданиям, предпочтения жанров в Петербурге напоминают московские.\n",
    "\n",
    "Третья гипотеза не подтвердилась. Если различия в предпочтениях и существуют, на основной массе пользователей они незаметны.\n",
    "\n",
    "**На практике исследования содержат проверки статистических гипотез.**\n",
    "Из данных одного сервиса не всегда можно сделать вывод о всех жителях города.\n",
    "Проверки статистических гипотез покажут, насколько они достоверны, исходя из имеющихся данных. \n",
    "С методами проверок гипотез вы ещё познакомитесь в следующих темах."
   ]
  }
 ],
 "metadata": {
  "ExecuteTimeLog": [
   {
    "duration": 639,
    "start_time": "2022-02-11T12:41:22.713Z"
   },
   {
    "duration": 147,
    "start_time": "2022-02-11T12:41:23.354Z"
   },
   {
    "duration": 7,
    "start_time": "2022-02-11T12:41:23.504Z"
   },
   {
    "duration": 39,
    "start_time": "2022-02-11T12:41:23.513Z"
   },
   {
    "duration": 3,
    "start_time": "2022-02-11T12:41:23.554Z"
   },
   {
    "duration": 6,
    "start_time": "2022-02-11T12:41:23.559Z"
   },
   {
    "duration": 6,
    "start_time": "2022-02-11T12:41:23.567Z"
   },
   {
    "duration": 11,
    "start_time": "2022-02-11T12:41:23.576Z"
   },
   {
    "duration": 11,
    "start_time": "2022-02-11T12:41:23.590Z"
   },
   {
    "duration": 18,
    "start_time": "2022-02-11T12:41:23.603Z"
   },
   {
    "duration": 10,
    "start_time": "2022-02-11T12:41:23.622Z"
   },
   {
    "duration": 11,
    "start_time": "2022-02-11T12:41:23.634Z"
   },
   {
    "duration": 9,
    "start_time": "2022-02-11T12:41:23.648Z"
   },
   {
    "duration": 5,
    "start_time": "2022-02-11T12:41:23.659Z"
   },
   {
    "duration": 4,
    "start_time": "2022-02-11T12:41:23.666Z"
   },
   {
    "duration": 7,
    "start_time": "2022-02-11T12:41:23.672Z"
   },
   {
    "duration": 6,
    "start_time": "2022-02-11T12:41:23.681Z"
   },
   {
    "duration": 5,
    "start_time": "2022-02-11T12:41:23.689Z"
   },
   {
    "duration": 22,
    "start_time": "2022-02-11T12:41:23.696Z"
   },
   {
    "duration": 3,
    "start_time": "2022-02-11T12:41:23.720Z"
   },
   {
    "duration": 12,
    "start_time": "2022-02-11T12:41:23.724Z"
   },
   {
    "duration": 7,
    "start_time": "2022-02-11T12:41:23.738Z"
   },
   {
    "duration": 10,
    "start_time": "2022-02-11T12:41:23.749Z"
   },
   {
    "duration": 4,
    "start_time": "2022-02-11T12:41:23.761Z"
   },
   {
    "duration": 7,
    "start_time": "2022-02-11T12:41:23.767Z"
   },
   {
    "duration": 7,
    "start_time": "2022-02-11T12:41:23.776Z"
   },
   {
    "duration": 7,
    "start_time": "2022-02-11T12:41:23.785Z"
   },
   {
    "duration": 9,
    "start_time": "2022-02-11T12:41:23.794Z"
   },
   {
    "duration": 15,
    "start_time": "2022-02-11T12:41:23.805Z"
   },
   {
    "duration": 6,
    "start_time": "2022-02-11T12:41:23.823Z"
   },
   {
    "duration": 24,
    "start_time": "2022-02-11T12:41:23.832Z"
   },
   {
    "duration": 10,
    "start_time": "2022-02-11T12:41:23.858Z"
   },
   {
    "duration": 25,
    "start_time": "2022-02-11T12:41:23.870Z"
   },
   {
    "duration": 17,
    "start_time": "2022-02-11T12:41:23.896Z"
   },
   {
    "duration": 15,
    "start_time": "2022-02-11T12:41:23.916Z"
   },
   {
    "duration": 7,
    "start_time": "2022-02-11T12:41:23.933Z"
   },
   {
    "duration": 6,
    "start_time": "2022-02-11T12:41:23.942Z"
   },
   {
    "duration": 8,
    "start_time": "2022-02-11T12:41:23.949Z"
   },
   {
    "duration": 3,
    "start_time": "2022-02-11T12:41:57.081Z"
   },
   {
    "duration": 174,
    "start_time": "2022-02-11T12:41:57.086Z"
   },
   {
    "duration": 9,
    "start_time": "2022-02-11T12:41:57.262Z"
   },
   {
    "duration": 50,
    "start_time": "2022-02-11T12:41:57.273Z"
   },
   {
    "duration": 3,
    "start_time": "2022-02-11T12:41:57.325Z"
   },
   {
    "duration": 6,
    "start_time": "2022-02-11T12:41:57.330Z"
   },
   {
    "duration": 12,
    "start_time": "2022-02-11T12:41:57.339Z"
   },
   {
    "duration": 37,
    "start_time": "2022-02-11T12:41:57.354Z"
   },
   {
    "duration": 20,
    "start_time": "2022-02-11T12:41:57.392Z"
   },
   {
    "duration": 10,
    "start_time": "2022-02-11T12:41:57.413Z"
   },
   {
    "duration": 6,
    "start_time": "2022-02-11T12:41:57.425Z"
   },
   {
    "duration": 10,
    "start_time": "2022-02-11T12:41:57.432Z"
   },
   {
    "duration": 6,
    "start_time": "2022-02-11T12:41:57.444Z"
   },
   {
    "duration": 10,
    "start_time": "2022-02-11T12:41:57.451Z"
   },
   {
    "duration": 8,
    "start_time": "2022-02-11T12:41:57.463Z"
   },
   {
    "duration": 9,
    "start_time": "2022-02-11T12:41:57.473Z"
   },
   {
    "duration": 7,
    "start_time": "2022-02-11T12:41:57.484Z"
   },
   {
    "duration": 6,
    "start_time": "2022-02-11T12:41:57.493Z"
   },
   {
    "duration": 5,
    "start_time": "2022-02-11T12:41:57.503Z"
   },
   {
    "duration": 6,
    "start_time": "2022-02-11T12:41:57.510Z"
   },
   {
    "duration": 8,
    "start_time": "2022-02-11T12:41:57.518Z"
   },
   {
    "duration": 5,
    "start_time": "2022-02-11T12:41:57.528Z"
   },
   {
    "duration": 5,
    "start_time": "2022-02-11T12:41:57.534Z"
   },
   {
    "duration": 9,
    "start_time": "2022-02-11T12:41:57.541Z"
   },
   {
    "duration": 8,
    "start_time": "2022-02-11T12:41:57.551Z"
   },
   {
    "duration": 7,
    "start_time": "2022-02-11T12:41:57.561Z"
   },
   {
    "duration": 9,
    "start_time": "2022-02-11T12:41:57.570Z"
   },
   {
    "duration": 6,
    "start_time": "2022-02-11T12:41:57.581Z"
   },
   {
    "duration": 5,
    "start_time": "2022-02-11T12:41:57.589Z"
   },
   {
    "duration": 6,
    "start_time": "2022-02-11T12:41:57.595Z"
   },
   {
    "duration": 11,
    "start_time": "2022-02-11T12:41:57.603Z"
   },
   {
    "duration": 6,
    "start_time": "2022-02-11T12:41:57.616Z"
   },
   {
    "duration": 10,
    "start_time": "2022-02-11T12:41:57.624Z"
   },
   {
    "duration": 5,
    "start_time": "2022-02-11T12:41:57.636Z"
   },
   {
    "duration": 7,
    "start_time": "2022-02-11T12:41:57.643Z"
   },
   {
    "duration": 10,
    "start_time": "2022-02-11T12:41:57.652Z"
   },
   {
    "duration": 10,
    "start_time": "2022-02-11T12:41:57.664Z"
   },
   {
    "duration": 10,
    "start_time": "2022-02-11T12:41:57.676Z"
   },
   {
    "duration": 3,
    "start_time": "2022-02-11T12:58:33.805Z"
   },
   {
    "duration": 173,
    "start_time": "2022-02-11T12:58:33.810Z"
   },
   {
    "duration": 8,
    "start_time": "2022-02-11T12:58:33.985Z"
   },
   {
    "duration": 50,
    "start_time": "2022-02-11T12:58:33.995Z"
   },
   {
    "duration": 358,
    "start_time": "2022-02-11T12:58:34.047Z"
   },
   {
    "duration": 3,
    "start_time": "2022-02-11T12:58:34.406Z"
   },
   {
    "duration": -6,
    "start_time": "2022-02-11T12:58:34.416Z"
   },
   {
    "duration": -9,
    "start_time": "2022-02-11T12:58:34.420Z"
   },
   {
    "duration": -21,
    "start_time": "2022-02-11T12:58:34.433Z"
   },
   {
    "duration": -25,
    "start_time": "2022-02-11T12:58:34.439Z"
   },
   {
    "duration": -28,
    "start_time": "2022-02-11T12:58:34.443Z"
   },
   {
    "duration": -31,
    "start_time": "2022-02-11T12:58:34.447Z"
   },
   {
    "duration": -33,
    "start_time": "2022-02-11T12:58:34.450Z"
   },
   {
    "duration": -35,
    "start_time": "2022-02-11T12:58:34.453Z"
   },
   {
    "duration": -37,
    "start_time": "2022-02-11T12:58:34.456Z"
   },
   {
    "duration": -40,
    "start_time": "2022-02-11T12:58:34.460Z"
   },
   {
    "duration": -47,
    "start_time": "2022-02-11T12:58:34.468Z"
   },
   {
    "duration": -50,
    "start_time": "2022-02-11T12:58:34.472Z"
   },
   {
    "duration": -51,
    "start_time": "2022-02-11T12:58:34.474Z"
   },
   {
    "duration": -52,
    "start_time": "2022-02-11T12:58:34.476Z"
   },
   {
    "duration": -54,
    "start_time": "2022-02-11T12:58:34.479Z"
   },
   {
    "duration": -57,
    "start_time": "2022-02-11T12:58:34.483Z"
   },
   {
    "duration": -59,
    "start_time": "2022-02-11T12:58:34.486Z"
   },
   {
    "duration": -61,
    "start_time": "2022-02-11T12:58:34.489Z"
   },
   {
    "duration": -62,
    "start_time": "2022-02-11T12:58:34.492Z"
   },
   {
    "duration": -64,
    "start_time": "2022-02-11T12:58:34.495Z"
   },
   {
    "duration": -67,
    "start_time": "2022-02-11T12:58:34.499Z"
   },
   {
    "duration": -70,
    "start_time": "2022-02-11T12:58:34.503Z"
   },
   {
    "duration": -71,
    "start_time": "2022-02-11T12:58:34.505Z"
   },
   {
    "duration": -73,
    "start_time": "2022-02-11T12:58:34.508Z"
   },
   {
    "duration": -74,
    "start_time": "2022-02-11T12:58:34.510Z"
   },
   {
    "duration": -76,
    "start_time": "2022-02-11T12:58:34.513Z"
   },
   {
    "duration": -78,
    "start_time": "2022-02-11T12:58:34.516Z"
   },
   {
    "duration": -79,
    "start_time": "2022-02-11T12:58:34.518Z"
   },
   {
    "duration": -80,
    "start_time": "2022-02-11T12:58:34.520Z"
   },
   {
    "duration": -82,
    "start_time": "2022-02-11T12:58:34.523Z"
   },
   {
    "duration": -83,
    "start_time": "2022-02-11T12:58:34.525Z"
   },
   {
    "duration": -84,
    "start_time": "2022-02-11T12:58:34.527Z"
   },
   {
    "duration": 9,
    "start_time": "2022-02-11T12:58:53.509Z"
   },
   {
    "duration": 3,
    "start_time": "2022-02-11T13:42:10.315Z"
   },
   {
    "duration": 181,
    "start_time": "2022-02-11T13:42:10.322Z"
   },
   {
    "duration": 7,
    "start_time": "2022-02-11T13:42:10.518Z"
   },
   {
    "duration": 31,
    "start_time": "2022-02-11T13:42:10.528Z"
   },
   {
    "duration": 20,
    "start_time": "2022-02-11T13:42:10.561Z"
   },
   {
    "duration": 44,
    "start_time": "2022-02-11T13:42:10.583Z"
   },
   {
    "duration": 5,
    "start_time": "2022-02-11T13:42:10.629Z"
   },
   {
    "duration": 28,
    "start_time": "2022-02-11T13:42:10.636Z"
   },
   {
    "duration": 18,
    "start_time": "2022-02-11T13:42:10.666Z"
   },
   {
    "duration": 14,
    "start_time": "2022-02-11T13:42:10.687Z"
   },
   {
    "duration": 9,
    "start_time": "2022-02-11T13:42:10.703Z"
   },
   {
    "duration": 16,
    "start_time": "2022-02-11T13:42:10.714Z"
   },
   {
    "duration": 8,
    "start_time": "2022-02-11T13:42:10.732Z"
   },
   {
    "duration": 11,
    "start_time": "2022-02-11T13:42:10.742Z"
   },
   {
    "duration": 7,
    "start_time": "2022-02-11T13:42:10.755Z"
   },
   {
    "duration": 9,
    "start_time": "2022-02-11T13:42:10.764Z"
   },
   {
    "duration": 11,
    "start_time": "2022-02-11T13:42:10.774Z"
   },
   {
    "duration": 7,
    "start_time": "2022-02-11T13:42:10.787Z"
   },
   {
    "duration": 6,
    "start_time": "2022-02-11T13:42:10.797Z"
   },
   {
    "duration": 13,
    "start_time": "2022-02-11T13:42:10.805Z"
   },
   {
    "duration": 9,
    "start_time": "2022-02-11T13:42:10.820Z"
   },
   {
    "duration": 8,
    "start_time": "2022-02-11T13:42:10.830Z"
   },
   {
    "duration": 7,
    "start_time": "2022-02-11T13:42:10.840Z"
   },
   {
    "duration": 6,
    "start_time": "2022-02-11T13:42:10.849Z"
   },
   {
    "duration": 91,
    "start_time": "2022-02-11T13:42:10.857Z"
   },
   {
    "duration": 43,
    "start_time": "2022-02-11T13:42:10.950Z"
   },
   {
    "duration": 8,
    "start_time": "2022-02-11T13:42:10.995Z"
   },
   {
    "duration": 4,
    "start_time": "2022-02-11T13:42:11.006Z"
   },
   {
    "duration": 5,
    "start_time": "2022-02-11T13:42:11.012Z"
   },
   {
    "duration": 14,
    "start_time": "2022-02-11T13:42:11.019Z"
   },
   {
    "duration": 14,
    "start_time": "2022-02-11T13:42:11.036Z"
   },
   {
    "duration": 9,
    "start_time": "2022-02-11T13:42:11.052Z"
   },
   {
    "duration": 29,
    "start_time": "2022-02-11T13:42:11.063Z"
   },
   {
    "duration": 32,
    "start_time": "2022-02-11T13:42:11.094Z"
   },
   {
    "duration": 13,
    "start_time": "2022-02-11T13:42:11.128Z"
   },
   {
    "duration": 8,
    "start_time": "2022-02-11T13:42:11.144Z"
   },
   {
    "duration": 11,
    "start_time": "2022-02-11T13:42:11.154Z"
   },
   {
    "duration": 11,
    "start_time": "2022-02-11T13:42:11.167Z"
   },
   {
    "duration": 3,
    "start_time": "2022-02-11T13:43:14.392Z"
   },
   {
    "duration": 174,
    "start_time": "2022-02-11T13:43:14.397Z"
   },
   {
    "duration": 9,
    "start_time": "2022-02-11T13:43:14.574Z"
   },
   {
    "duration": 41,
    "start_time": "2022-02-11T13:43:14.586Z"
   },
   {
    "duration": 7,
    "start_time": "2022-02-11T13:43:14.629Z"
   },
   {
    "duration": 25,
    "start_time": "2022-02-11T13:43:14.638Z"
   },
   {
    "duration": 4,
    "start_time": "2022-02-11T13:43:14.665Z"
   },
   {
    "duration": 11,
    "start_time": "2022-02-11T13:43:14.671Z"
   },
   {
    "duration": 5,
    "start_time": "2022-02-11T13:43:14.685Z"
   },
   {
    "duration": 30,
    "start_time": "2022-02-11T13:43:14.693Z"
   },
   {
    "duration": 5,
    "start_time": "2022-02-11T13:43:14.725Z"
   },
   {
    "duration": 6,
    "start_time": "2022-02-11T13:43:14.732Z"
   },
   {
    "duration": 8,
    "start_time": "2022-02-11T13:43:14.740Z"
   },
   {
    "duration": 6,
    "start_time": "2022-02-11T13:43:14.750Z"
   },
   {
    "duration": 6,
    "start_time": "2022-02-11T13:43:14.758Z"
   },
   {
    "duration": 5,
    "start_time": "2022-02-11T13:43:14.766Z"
   },
   {
    "duration": 6,
    "start_time": "2022-02-11T13:43:14.773Z"
   },
   {
    "duration": 13,
    "start_time": "2022-02-11T13:43:14.781Z"
   },
   {
    "duration": 12,
    "start_time": "2022-02-11T13:43:14.796Z"
   },
   {
    "duration": 19,
    "start_time": "2022-02-11T13:43:14.810Z"
   },
   {
    "duration": 25,
    "start_time": "2022-02-11T13:43:14.831Z"
   },
   {
    "duration": 11,
    "start_time": "2022-02-11T13:43:14.858Z"
   },
   {
    "duration": 19,
    "start_time": "2022-02-11T13:43:14.871Z"
   },
   {
    "duration": 9,
    "start_time": "2022-02-11T13:43:14.892Z"
   },
   {
    "duration": 8,
    "start_time": "2022-02-11T13:43:14.903Z"
   },
   {
    "duration": 18,
    "start_time": "2022-02-11T13:43:14.913Z"
   },
   {
    "duration": 4,
    "start_time": "2022-02-11T13:43:14.936Z"
   },
   {
    "duration": 12,
    "start_time": "2022-02-11T13:43:14.942Z"
   },
   {
    "duration": 9,
    "start_time": "2022-02-11T13:43:14.956Z"
   },
   {
    "duration": 11,
    "start_time": "2022-02-11T13:43:14.967Z"
   },
   {
    "duration": 14,
    "start_time": "2022-02-11T13:43:14.980Z"
   },
   {
    "duration": 21,
    "start_time": "2022-02-11T13:43:14.996Z"
   },
   {
    "duration": 25,
    "start_time": "2022-02-11T13:43:15.020Z"
   },
   {
    "duration": 17,
    "start_time": "2022-02-11T13:43:15.047Z"
   },
   {
    "duration": 17,
    "start_time": "2022-02-11T13:43:15.066Z"
   },
   {
    "duration": 8,
    "start_time": "2022-02-11T13:43:15.086Z"
   },
   {
    "duration": 10,
    "start_time": "2022-02-11T13:43:15.097Z"
   },
   {
    "duration": 8,
    "start_time": "2022-02-11T13:43:15.109Z"
   },
   {
    "duration": 38,
    "start_time": "2022-02-11T13:46:10.452Z"
   },
   {
    "duration": 3,
    "start_time": "2022-02-11T14:03:21.386Z"
   },
   {
    "duration": 152,
    "start_time": "2022-02-11T14:03:21.391Z"
   },
   {
    "duration": 7,
    "start_time": "2022-02-11T14:03:21.545Z"
   },
   {
    "duration": 31,
    "start_time": "2022-02-11T14:03:21.554Z"
   },
   {
    "duration": 8,
    "start_time": "2022-02-11T14:03:21.587Z"
   },
   {
    "duration": 25,
    "start_time": "2022-02-11T14:03:21.596Z"
   },
   {
    "duration": 4,
    "start_time": "2022-02-11T14:03:21.623Z"
   },
   {
    "duration": 38,
    "start_time": "2022-02-11T14:03:21.629Z"
   },
   {
    "duration": 27,
    "start_time": "2022-02-11T14:03:21.670Z"
   },
   {
    "duration": 27,
    "start_time": "2022-02-11T14:03:21.700Z"
   },
   {
    "duration": 15,
    "start_time": "2022-02-11T14:03:21.728Z"
   },
   {
    "duration": 22,
    "start_time": "2022-02-11T14:03:21.745Z"
   },
   {
    "duration": 25,
    "start_time": "2022-02-11T14:03:21.769Z"
   },
   {
    "duration": 23,
    "start_time": "2022-02-11T14:03:21.796Z"
   },
   {
    "duration": 19,
    "start_time": "2022-02-11T14:03:21.820Z"
   },
   {
    "duration": 29,
    "start_time": "2022-02-11T14:03:21.841Z"
   },
   {
    "duration": 15,
    "start_time": "2022-02-11T14:03:21.871Z"
   },
   {
    "duration": 17,
    "start_time": "2022-02-11T14:03:21.887Z"
   },
   {
    "duration": 32,
    "start_time": "2022-02-11T14:03:21.906Z"
   },
   {
    "duration": 12,
    "start_time": "2022-02-11T14:03:21.939Z"
   },
   {
    "duration": 46,
    "start_time": "2022-02-11T14:03:21.953Z"
   },
   {
    "duration": 25,
    "start_time": "2022-02-11T14:03:22.001Z"
   },
   {
    "duration": 20,
    "start_time": "2022-02-11T14:03:22.028Z"
   },
   {
    "duration": 14,
    "start_time": "2022-02-11T14:03:22.050Z"
   },
   {
    "duration": 16,
    "start_time": "2022-02-11T14:03:22.066Z"
   },
   {
    "duration": 6,
    "start_time": "2022-02-11T14:03:22.084Z"
   },
   {
    "duration": 4,
    "start_time": "2022-02-11T14:03:22.093Z"
   },
   {
    "duration": 28,
    "start_time": "2022-02-11T14:03:22.099Z"
   },
   {
    "duration": 17,
    "start_time": "2022-02-11T14:03:22.129Z"
   },
   {
    "duration": 19,
    "start_time": "2022-02-11T14:03:22.148Z"
   },
   {
    "duration": 13,
    "start_time": "2022-02-11T14:03:22.169Z"
   },
   {
    "duration": 21,
    "start_time": "2022-02-11T14:03:22.184Z"
   },
   {
    "duration": 40,
    "start_time": "2022-02-11T14:03:22.207Z"
   },
   {
    "duration": 24,
    "start_time": "2022-02-11T14:03:22.249Z"
   },
   {
    "duration": 20,
    "start_time": "2022-02-11T14:03:22.274Z"
   },
   {
    "duration": 25,
    "start_time": "2022-02-11T14:03:22.296Z"
   },
   {
    "duration": 8,
    "start_time": "2022-02-11T14:03:22.322Z"
   },
   {
    "duration": 34,
    "start_time": "2022-02-11T14:03:22.332Z"
   },
   {
    "duration": 55,
    "start_time": "2022-02-11T14:04:47.740Z"
   },
   {
    "duration": 63,
    "start_time": "2022-02-11T14:06:16.446Z"
   },
   {
    "duration": 53,
    "start_time": "2022-02-11T14:06:41.357Z"
   },
   {
    "duration": 8,
    "start_time": "2022-02-11T14:10:10.532Z"
   },
   {
    "duration": 2,
    "start_time": "2022-02-11T14:34:19.027Z"
   },
   {
    "duration": 164,
    "start_time": "2022-02-11T14:34:19.031Z"
   },
   {
    "duration": 21,
    "start_time": "2022-02-11T14:34:19.197Z"
   },
   {
    "duration": 30,
    "start_time": "2022-02-11T14:34:19.220Z"
   },
   {
    "duration": 6,
    "start_time": "2022-02-11T14:34:19.252Z"
   },
   {
    "duration": 20,
    "start_time": "2022-02-11T14:34:19.259Z"
   },
   {
    "duration": 4,
    "start_time": "2022-02-11T14:34:19.280Z"
   },
   {
    "duration": 46,
    "start_time": "2022-02-11T14:34:19.285Z"
   },
   {
    "duration": 15,
    "start_time": "2022-02-11T14:34:19.334Z"
   },
   {
    "duration": 26,
    "start_time": "2022-02-11T14:34:19.351Z"
   },
   {
    "duration": 80,
    "start_time": "2022-02-11T14:34:19.379Z"
   },
   {
    "duration": 76,
    "start_time": "2022-02-11T14:34:19.462Z"
   },
   {
    "duration": 52,
    "start_time": "2022-02-11T14:34:19.540Z"
   },
   {
    "duration": 26,
    "start_time": "2022-02-11T14:34:19.594Z"
   },
   {
    "duration": 5,
    "start_time": "2022-02-11T14:34:19.622Z"
   },
   {
    "duration": 30,
    "start_time": "2022-02-11T14:34:19.629Z"
   },
   {
    "duration": 256,
    "start_time": "2022-02-11T14:34:19.661Z"
   },
   {
    "duration": 83,
    "start_time": "2022-02-11T14:34:19.837Z"
   },
   {
    "duration": 81,
    "start_time": "2022-02-11T14:34:19.841Z"
   },
   {
    "duration": 78,
    "start_time": "2022-02-11T14:34:19.845Z"
   },
   {
    "duration": 76,
    "start_time": "2022-02-11T14:34:19.849Z"
   },
   {
    "duration": 72,
    "start_time": "2022-02-11T14:34:19.854Z"
   },
   {
    "duration": 68,
    "start_time": "2022-02-11T14:34:19.859Z"
   },
   {
    "duration": 65,
    "start_time": "2022-02-11T14:34:19.863Z"
   },
   {
    "duration": 57,
    "start_time": "2022-02-11T14:34:19.872Z"
   },
   {
    "duration": 54,
    "start_time": "2022-02-11T14:34:19.876Z"
   },
   {
    "duration": 52,
    "start_time": "2022-02-11T14:34:19.879Z"
   },
   {
    "duration": 50,
    "start_time": "2022-02-11T14:34:19.882Z"
   },
   {
    "duration": 50,
    "start_time": "2022-02-11T14:34:19.884Z"
   },
   {
    "duration": 48,
    "start_time": "2022-02-11T14:34:19.887Z"
   },
   {
    "duration": 45,
    "start_time": "2022-02-11T14:34:19.890Z"
   },
   {
    "duration": 42,
    "start_time": "2022-02-11T14:34:19.894Z"
   },
   {
    "duration": 41,
    "start_time": "2022-02-11T14:34:19.896Z"
   },
   {
    "duration": 40,
    "start_time": "2022-02-11T14:34:19.898Z"
   },
   {
    "duration": 39,
    "start_time": "2022-02-11T14:34:19.900Z"
   },
   {
    "duration": 38,
    "start_time": "2022-02-11T14:34:19.902Z"
   },
   {
    "duration": 36,
    "start_time": "2022-02-11T14:34:19.904Z"
   },
   {
    "duration": 35,
    "start_time": "2022-02-11T14:34:19.906Z"
   },
   {
    "duration": 3,
    "start_time": "2022-02-11T14:35:08.679Z"
   },
   {
    "duration": 163,
    "start_time": "2022-02-11T14:35:08.684Z"
   },
   {
    "duration": 7,
    "start_time": "2022-02-11T14:35:08.849Z"
   },
   {
    "duration": 30,
    "start_time": "2022-02-11T14:35:08.858Z"
   },
   {
    "duration": 8,
    "start_time": "2022-02-11T14:35:08.890Z"
   },
   {
    "duration": 31,
    "start_time": "2022-02-11T14:35:08.900Z"
   },
   {
    "duration": 4,
    "start_time": "2022-02-11T14:35:08.934Z"
   },
   {
    "duration": 27,
    "start_time": "2022-02-11T14:35:08.940Z"
   },
   {
    "duration": 19,
    "start_time": "2022-02-11T14:35:08.970Z"
   },
   {
    "duration": 41,
    "start_time": "2022-02-11T14:35:08.991Z"
   },
   {
    "duration": 61,
    "start_time": "2022-02-11T14:35:09.034Z"
   },
   {
    "duration": 76,
    "start_time": "2022-02-11T14:35:09.097Z"
   },
   {
    "duration": 53,
    "start_time": "2022-02-11T14:35:09.175Z"
   },
   {
    "duration": 7,
    "start_time": "2022-02-11T14:35:09.230Z"
   },
   {
    "duration": 6,
    "start_time": "2022-02-11T14:35:09.238Z"
   },
   {
    "duration": 521,
    "start_time": "2022-02-11T14:35:09.245Z"
   },
   {
    "duration": 76,
    "start_time": "2022-02-11T14:35:09.692Z"
   },
   {
    "duration": 55,
    "start_time": "2022-02-11T14:35:09.714Z"
   },
   {
    "duration": 41,
    "start_time": "2022-02-11T14:35:09.729Z"
   },
   {
    "duration": 38,
    "start_time": "2022-02-11T14:35:09.732Z"
   },
   {
    "duration": 35,
    "start_time": "2022-02-11T14:35:09.736Z"
   },
   {
    "duration": 32,
    "start_time": "2022-02-11T14:35:09.740Z"
   },
   {
    "duration": 28,
    "start_time": "2022-02-11T14:35:09.745Z"
   },
   {
    "duration": 26,
    "start_time": "2022-02-11T14:35:09.748Z"
   },
   {
    "duration": 24,
    "start_time": "2022-02-11T14:35:09.751Z"
   },
   {
    "duration": 21,
    "start_time": "2022-02-11T14:35:09.755Z"
   },
   {
    "duration": 20,
    "start_time": "2022-02-11T14:35:09.757Z"
   },
   {
    "duration": 18,
    "start_time": "2022-02-11T14:35:09.760Z"
   },
   {
    "duration": 15,
    "start_time": "2022-02-11T14:35:09.763Z"
   },
   {
    "duration": 14,
    "start_time": "2022-02-11T14:35:09.765Z"
   },
   {
    "duration": 12,
    "start_time": "2022-02-11T14:35:09.768Z"
   },
   {
    "duration": 11,
    "start_time": "2022-02-11T14:35:09.770Z"
   },
   {
    "duration": 9,
    "start_time": "2022-02-11T14:35:09.773Z"
   },
   {
    "duration": 8,
    "start_time": "2022-02-11T14:35:09.775Z"
   },
   {
    "duration": 7,
    "start_time": "2022-02-11T14:35:09.777Z"
   },
   {
    "duration": 6,
    "start_time": "2022-02-11T14:35:09.779Z"
   },
   {
    "duration": 5,
    "start_time": "2022-02-11T14:35:09.781Z"
   },
   {
    "duration": 3,
    "start_time": "2022-02-11T14:35:09.784Z"
   },
   {
    "duration": 2,
    "start_time": "2022-02-11T14:35:59.872Z"
   },
   {
    "duration": 174,
    "start_time": "2022-02-11T14:35:59.876Z"
   },
   {
    "duration": 8,
    "start_time": "2022-02-11T14:36:00.053Z"
   },
   {
    "duration": 86,
    "start_time": "2022-02-11T14:36:00.063Z"
   },
   {
    "duration": 30,
    "start_time": "2022-02-11T14:36:00.151Z"
   },
   {
    "duration": 32,
    "start_time": "2022-02-11T14:36:00.182Z"
   },
   {
    "duration": 7,
    "start_time": "2022-02-11T14:36:00.216Z"
   },
   {
    "duration": 33,
    "start_time": "2022-02-11T14:36:00.225Z"
   },
   {
    "duration": 32,
    "start_time": "2022-02-11T14:36:00.261Z"
   },
   {
    "duration": 29,
    "start_time": "2022-02-11T14:36:00.296Z"
   },
   {
    "duration": 70,
    "start_time": "2022-02-11T14:36:00.327Z"
   },
   {
    "duration": 75,
    "start_time": "2022-02-11T14:36:00.399Z"
   },
   {
    "duration": 63,
    "start_time": "2022-02-11T14:36:00.476Z"
   },
   {
    "duration": 8,
    "start_time": "2022-02-11T14:36:00.542Z"
   },
   {
    "duration": 9,
    "start_time": "2022-02-11T14:36:00.551Z"
   },
   {
    "duration": 80,
    "start_time": "2022-02-11T14:41:36.536Z"
   },
   {
    "duration": 77,
    "start_time": "2022-02-11T14:41:36.540Z"
   },
   {
    "duration": 73,
    "start_time": "2022-02-11T14:41:36.545Z"
   },
   {
    "duration": 71,
    "start_time": "2022-02-11T14:41:36.548Z"
   },
   {
    "duration": 42,
    "start_time": "2022-02-11T14:41:36.578Z"
   },
   {
    "duration": 38,
    "start_time": "2022-02-11T14:41:36.583Z"
   },
   {
    "duration": 34,
    "start_time": "2022-02-11T14:41:36.588Z"
   },
   {
    "duration": 29,
    "start_time": "2022-02-11T14:41:36.594Z"
   },
   {
    "duration": 25,
    "start_time": "2022-02-11T14:41:36.599Z"
   },
   {
    "duration": 21,
    "start_time": "2022-02-11T14:41:36.604Z"
   },
   {
    "duration": 19,
    "start_time": "2022-02-11T14:41:36.607Z"
   },
   {
    "duration": 15,
    "start_time": "2022-02-11T14:41:36.612Z"
   },
   {
    "duration": 10,
    "start_time": "2022-02-11T14:41:36.618Z"
   },
   {
    "duration": 7,
    "start_time": "2022-02-11T14:41:36.622Z"
   },
   {
    "duration": 2,
    "start_time": "2022-02-11T14:41:36.628Z"
   },
   {
    "duration": -3,
    "start_time": "2022-02-11T14:41:36.634Z"
   },
   {
    "duration": -5,
    "start_time": "2022-02-11T14:41:36.637Z"
   },
   {
    "duration": -9,
    "start_time": "2022-02-11T14:41:36.642Z"
   },
   {
    "duration": -11,
    "start_time": "2022-02-11T14:41:36.645Z"
   },
   {
    "duration": -14,
    "start_time": "2022-02-11T14:41:36.649Z"
   },
   {
    "duration": -16,
    "start_time": "2022-02-11T14:41:36.652Z"
   },
   {
    "duration": -17,
    "start_time": "2022-02-11T14:41:36.654Z"
   },
   {
    "duration": -19,
    "start_time": "2022-02-11T14:41:36.657Z"
   },
   {
    "duration": -21,
    "start_time": "2022-02-11T14:41:36.660Z"
   },
   {
    "duration": -21,
    "start_time": "2022-02-11T14:41:36.662Z"
   },
   {
    "duration": -23,
    "start_time": "2022-02-11T14:41:36.665Z"
   },
   {
    "duration": -25,
    "start_time": "2022-02-11T14:41:36.668Z"
   },
   {
    "duration": -26,
    "start_time": "2022-02-11T14:41:36.670Z"
   },
   {
    "duration": -28,
    "start_time": "2022-02-11T14:41:36.673Z"
   },
   {
    "duration": -30,
    "start_time": "2022-02-11T14:41:36.676Z"
   },
   {
    "duration": -31,
    "start_time": "2022-02-11T14:41:36.678Z"
   },
   {
    "duration": -32,
    "start_time": "2022-02-11T14:41:36.680Z"
   },
   {
    "duration": -34,
    "start_time": "2022-02-11T14:41:36.683Z"
   },
   {
    "duration": -35,
    "start_time": "2022-02-11T14:41:36.685Z"
   },
   {
    "duration": -36,
    "start_time": "2022-02-11T14:41:36.687Z"
   },
   {
    "duration": -38,
    "start_time": "2022-02-11T14:41:36.690Z"
   },
   {
    "duration": -39,
    "start_time": "2022-02-11T14:41:36.692Z"
   },
   {
    "duration": -40,
    "start_time": "2022-02-11T14:41:36.694Z"
   },
   {
    "duration": 3,
    "start_time": "2022-02-11T14:44:31.781Z"
   },
   {
    "duration": 191,
    "start_time": "2022-02-11T14:44:31.786Z"
   },
   {
    "duration": 8,
    "start_time": "2022-02-11T14:44:31.980Z"
   },
   {
    "duration": 44,
    "start_time": "2022-02-11T14:44:31.990Z"
   },
   {
    "duration": 13,
    "start_time": "2022-02-11T14:44:32.036Z"
   },
   {
    "duration": 48,
    "start_time": "2022-02-11T14:44:32.050Z"
   },
   {
    "duration": 7,
    "start_time": "2022-02-11T14:44:32.100Z"
   },
   {
    "duration": 41,
    "start_time": "2022-02-11T14:44:32.109Z"
   },
   {
    "duration": 33,
    "start_time": "2022-02-11T14:44:32.153Z"
   },
   {
    "duration": 23,
    "start_time": "2022-02-11T14:44:32.188Z"
   },
   {
    "duration": 67,
    "start_time": "2022-02-11T14:44:32.212Z"
   },
   {
    "duration": 70,
    "start_time": "2022-02-11T14:44:32.281Z"
   },
   {
    "duration": 52,
    "start_time": "2022-02-11T14:44:32.353Z"
   },
   {
    "duration": 17,
    "start_time": "2022-02-11T14:44:32.407Z"
   },
   {
    "duration": 10,
    "start_time": "2022-02-11T14:44:32.426Z"
   },
   {
    "duration": 22,
    "start_time": "2022-02-11T14:44:32.438Z"
   },
   {
    "duration": 270,
    "start_time": "2022-02-11T14:44:32.462Z"
   },
   {
    "duration": 110,
    "start_time": "2022-02-11T14:44:32.624Z"
   },
   {
    "duration": 105,
    "start_time": "2022-02-11T14:44:32.630Z"
   },
   {
    "duration": 101,
    "start_time": "2022-02-11T14:44:32.635Z"
   },
   {
    "duration": 96,
    "start_time": "2022-02-11T14:44:32.641Z"
   },
   {
    "duration": 91,
    "start_time": "2022-02-11T14:44:32.647Z"
   },
   {
    "duration": 89,
    "start_time": "2022-02-11T14:44:32.650Z"
   },
   {
    "duration": 86,
    "start_time": "2022-02-11T14:44:32.654Z"
   },
   {
    "duration": 83,
    "start_time": "2022-02-11T14:44:32.658Z"
   },
   {
    "duration": 80,
    "start_time": "2022-02-11T14:44:32.662Z"
   },
   {
    "duration": 78,
    "start_time": "2022-02-11T14:44:32.665Z"
   },
   {
    "duration": 76,
    "start_time": "2022-02-11T14:44:32.667Z"
   },
   {
    "duration": 73,
    "start_time": "2022-02-11T14:44:32.671Z"
   },
   {
    "duration": 72,
    "start_time": "2022-02-11T14:44:32.673Z"
   },
   {
    "duration": 71,
    "start_time": "2022-02-11T14:44:32.675Z"
   },
   {
    "duration": 68,
    "start_time": "2022-02-11T14:44:32.679Z"
   },
   {
    "duration": 67,
    "start_time": "2022-02-11T14:44:32.681Z"
   },
   {
    "duration": 65,
    "start_time": "2022-02-11T14:44:32.683Z"
   },
   {
    "duration": 62,
    "start_time": "2022-02-11T14:44:32.687Z"
   },
   {
    "duration": 61,
    "start_time": "2022-02-11T14:44:32.689Z"
   },
   {
    "duration": 53,
    "start_time": "2022-02-11T14:44:32.698Z"
   },
   {
    "duration": 49,
    "start_time": "2022-02-11T14:44:32.703Z"
   },
   {
    "duration": 3,
    "start_time": "2022-02-11T14:53:25.766Z"
   },
   {
    "duration": 141,
    "start_time": "2022-02-11T14:53:25.771Z"
   },
   {
    "duration": 6,
    "start_time": "2022-02-11T14:53:25.914Z"
   },
   {
    "duration": 29,
    "start_time": "2022-02-11T14:53:25.922Z"
   },
   {
    "duration": 12,
    "start_time": "2022-02-11T14:53:25.952Z"
   },
   {
    "duration": 24,
    "start_time": "2022-02-11T14:53:25.965Z"
   },
   {
    "duration": 4,
    "start_time": "2022-02-11T14:53:25.991Z"
   },
   {
    "duration": 40,
    "start_time": "2022-02-11T14:53:25.996Z"
   },
   {
    "duration": 21,
    "start_time": "2022-02-11T14:53:26.039Z"
   },
   {
    "duration": 26,
    "start_time": "2022-02-11T14:53:26.062Z"
   },
   {
    "duration": 85,
    "start_time": "2022-02-11T14:53:26.090Z"
   },
   {
    "duration": 79,
    "start_time": "2022-02-11T14:53:26.176Z"
   },
   {
    "duration": 62,
    "start_time": "2022-02-11T14:53:26.257Z"
   },
   {
    "duration": 8,
    "start_time": "2022-02-11T14:53:26.321Z"
   },
   {
    "duration": 4,
    "start_time": "2022-02-11T14:53:26.331Z"
   },
   {
    "duration": 28,
    "start_time": "2022-02-11T14:53:26.336Z"
   },
   {
    "duration": 12,
    "start_time": "2022-02-11T14:53:26.366Z"
   },
   {
    "duration": 4,
    "start_time": "2022-02-11T14:53:26.380Z"
   },
   {
    "duration": 6,
    "start_time": "2022-02-11T14:53:26.386Z"
   },
   {
    "duration": 5,
    "start_time": "2022-02-11T14:53:26.394Z"
   },
   {
    "duration": 7,
    "start_time": "2022-02-11T14:53:26.401Z"
   },
   {
    "duration": 9,
    "start_time": "2022-02-11T14:53:26.409Z"
   },
   {
    "duration": 4,
    "start_time": "2022-02-11T14:53:26.419Z"
   },
   {
    "duration": 5,
    "start_time": "2022-02-11T14:53:26.425Z"
   },
   {
    "duration": 6,
    "start_time": "2022-02-11T14:53:26.431Z"
   },
   {
    "duration": 12,
    "start_time": "2022-02-11T14:53:26.439Z"
   },
   {
    "duration": 5,
    "start_time": "2022-02-11T14:53:26.454Z"
   },
   {
    "duration": 12,
    "start_time": "2022-02-11T14:53:26.461Z"
   },
   {
    "duration": 6,
    "start_time": "2022-02-11T14:53:26.475Z"
   },
   {
    "duration": 6,
    "start_time": "2022-02-11T14:53:26.483Z"
   },
   {
    "duration": 8,
    "start_time": "2022-02-11T14:53:26.491Z"
   },
   {
    "duration": 7,
    "start_time": "2022-02-11T14:53:26.501Z"
   },
   {
    "duration": 9,
    "start_time": "2022-02-11T14:53:26.510Z"
   },
   {
    "duration": 7,
    "start_time": "2022-02-11T14:53:26.521Z"
   },
   {
    "duration": 7,
    "start_time": "2022-02-11T14:53:26.529Z"
   },
   {
    "duration": 8,
    "start_time": "2022-02-11T14:53:26.538Z"
   },
   {
    "duration": 7,
    "start_time": "2022-02-11T14:53:26.548Z"
   },
   {
    "duration": 7,
    "start_time": "2022-02-11T14:53:26.557Z"
   },
   {
    "duration": 3,
    "start_time": "2022-02-11T14:57:55.029Z"
   },
   {
    "duration": 162,
    "start_time": "2022-02-11T14:57:55.034Z"
   },
   {
    "duration": 7,
    "start_time": "2022-02-11T14:57:55.198Z"
   },
   {
    "duration": 27,
    "start_time": "2022-02-11T14:57:55.218Z"
   },
   {
    "duration": 4,
    "start_time": "2022-02-11T14:57:55.247Z"
   },
   {
    "duration": 28,
    "start_time": "2022-02-11T14:57:55.253Z"
   },
   {
    "duration": 4,
    "start_time": "2022-02-11T14:57:55.283Z"
   },
   {
    "duration": 47,
    "start_time": "2022-02-11T14:57:55.288Z"
   },
   {
    "duration": 18,
    "start_time": "2022-02-11T14:57:55.338Z"
   },
   {
    "duration": 34,
    "start_time": "2022-02-11T14:57:55.359Z"
   },
   {
    "duration": 74,
    "start_time": "2022-02-11T14:57:55.395Z"
   },
   {
    "duration": 74,
    "start_time": "2022-02-11T14:57:55.471Z"
   },
   {
    "duration": 54,
    "start_time": "2022-02-11T14:57:55.547Z"
   },
   {
    "duration": 19,
    "start_time": "2022-02-11T14:57:55.603Z"
   },
   {
    "duration": 7,
    "start_time": "2022-02-11T14:57:55.624Z"
   },
   {
    "duration": 20,
    "start_time": "2022-02-11T14:57:55.633Z"
   },
   {
    "duration": 13,
    "start_time": "2022-02-11T14:57:55.654Z"
   },
   {
    "duration": 25,
    "start_time": "2022-02-11T14:57:55.668Z"
   },
   {
    "duration": 12,
    "start_time": "2022-02-11T14:57:55.695Z"
   },
   {
    "duration": 10,
    "start_time": "2022-02-11T14:57:55.709Z"
   },
   {
    "duration": 13,
    "start_time": "2022-02-11T14:57:55.720Z"
   },
   {
    "duration": 18,
    "start_time": "2022-02-11T14:57:55.735Z"
   },
   {
    "duration": 16,
    "start_time": "2022-02-11T14:57:55.755Z"
   },
   {
    "duration": 11,
    "start_time": "2022-02-11T14:57:55.773Z"
   },
   {
    "duration": 19,
    "start_time": "2022-02-11T14:57:55.786Z"
   },
   {
    "duration": 31,
    "start_time": "2022-02-11T14:57:55.806Z"
   },
   {
    "duration": 14,
    "start_time": "2022-02-11T14:57:55.840Z"
   },
   {
    "duration": 16,
    "start_time": "2022-02-11T14:57:55.856Z"
   },
   {
    "duration": 13,
    "start_time": "2022-02-11T14:57:55.873Z"
   },
   {
    "duration": 12,
    "start_time": "2022-02-11T14:57:55.888Z"
   },
   {
    "duration": 12,
    "start_time": "2022-02-11T14:57:55.902Z"
   },
   {
    "duration": 5,
    "start_time": "2022-02-11T14:57:55.916Z"
   },
   {
    "duration": 7,
    "start_time": "2022-02-11T14:57:55.923Z"
   },
   {
    "duration": 13,
    "start_time": "2022-02-11T14:57:55.932Z"
   },
   {
    "duration": 7,
    "start_time": "2022-02-11T14:57:55.947Z"
   },
   {
    "duration": 10,
    "start_time": "2022-02-11T14:57:55.955Z"
   },
   {
    "duration": 7,
    "start_time": "2022-02-11T14:57:55.967Z"
   },
   {
    "duration": 6,
    "start_time": "2022-02-11T14:57:55.975Z"
   },
   {
    "duration": 3,
    "start_time": "2022-02-11T15:07:48.885Z"
   },
   {
    "duration": 163,
    "start_time": "2022-02-11T15:07:48.890Z"
   },
   {
    "duration": 6,
    "start_time": "2022-02-11T15:07:49.056Z"
   },
   {
    "duration": 32,
    "start_time": "2022-02-11T15:07:49.064Z"
   },
   {
    "duration": 11,
    "start_time": "2022-02-11T15:07:49.099Z"
   },
   {
    "duration": 24,
    "start_time": "2022-02-11T15:07:49.119Z"
   },
   {
    "duration": 6,
    "start_time": "2022-02-11T15:07:49.146Z"
   },
   {
    "duration": 41,
    "start_time": "2022-02-11T15:07:49.154Z"
   },
   {
    "duration": 29,
    "start_time": "2022-02-11T15:07:49.197Z"
   },
   {
    "duration": 53,
    "start_time": "2022-02-11T15:07:49.228Z"
   },
   {
    "duration": 73,
    "start_time": "2022-02-11T15:07:49.284Z"
   },
   {
    "duration": 81,
    "start_time": "2022-02-11T15:07:49.359Z"
   },
   {
    "duration": 81,
    "start_time": "2022-02-11T15:07:49.443Z"
   },
   {
    "duration": 6,
    "start_time": "2022-02-11T15:07:49.526Z"
   },
   {
    "duration": 12,
    "start_time": "2022-02-11T15:07:49.534Z"
   },
   {
    "duration": 34,
    "start_time": "2022-02-11T15:07:49.547Z"
   },
   {
    "duration": 18,
    "start_time": "2022-02-11T15:07:49.582Z"
   },
   {
    "duration": 17,
    "start_time": "2022-02-11T15:07:49.601Z"
   },
   {
    "duration": 26,
    "start_time": "2022-02-11T15:07:49.621Z"
   },
   {
    "duration": 8,
    "start_time": "2022-02-11T15:07:49.649Z"
   },
   {
    "duration": 7660,
    "start_time": "2022-02-11T15:07:49.659Z"
   },
   {
    "duration": 27,
    "start_time": "2022-02-11T15:07:57.295Z"
   },
   {
    "duration": 24,
    "start_time": "2022-02-11T15:07:57.299Z"
   },
   {
    "duration": 21,
    "start_time": "2022-02-11T15:07:57.303Z"
   },
   {
    "duration": 7,
    "start_time": "2022-02-11T15:07:57.318Z"
   },
   {
    "duration": -1,
    "start_time": "2022-02-11T15:07:57.327Z"
   },
   {
    "duration": -8,
    "start_time": "2022-02-11T15:07:57.335Z"
   },
   {
    "duration": -15,
    "start_time": "2022-02-11T15:07:57.343Z"
   },
   {
    "duration": -16,
    "start_time": "2022-02-11T15:07:57.345Z"
   },
   {
    "duration": -18,
    "start_time": "2022-02-11T15:07:57.348Z"
   },
   {
    "duration": -27,
    "start_time": "2022-02-11T15:07:57.358Z"
   },
   {
    "duration": -28,
    "start_time": "2022-02-11T15:07:57.360Z"
   },
   {
    "duration": -28,
    "start_time": "2022-02-11T15:07:57.362Z"
   },
   {
    "duration": -32,
    "start_time": "2022-02-11T15:07:57.367Z"
   },
   {
    "duration": -39,
    "start_time": "2022-02-11T15:07:57.374Z"
   },
   {
    "duration": -39,
    "start_time": "2022-02-11T15:07:57.376Z"
   },
   {
    "duration": -41,
    "start_time": "2022-02-11T15:07:57.378Z"
   },
   {
    "duration": -45,
    "start_time": "2022-02-11T15:07:57.383Z"
   },
   {
    "duration": 3,
    "start_time": "2022-02-11T15:09:43.961Z"
   },
   {
    "duration": 161,
    "start_time": "2022-02-11T15:09:43.966Z"
   },
   {
    "duration": 7,
    "start_time": "2022-02-11T15:09:44.129Z"
   },
   {
    "duration": 29,
    "start_time": "2022-02-11T15:09:44.138Z"
   },
   {
    "duration": 9,
    "start_time": "2022-02-11T15:09:44.169Z"
   },
   {
    "duration": 27,
    "start_time": "2022-02-11T15:09:44.180Z"
   },
   {
    "duration": 4,
    "start_time": "2022-02-11T15:09:44.219Z"
   },
   {
    "duration": 33,
    "start_time": "2022-02-11T15:09:44.224Z"
   },
   {
    "duration": 19,
    "start_time": "2022-02-11T15:09:44.261Z"
   },
   {
    "duration": 46,
    "start_time": "2022-02-11T15:09:44.283Z"
   },
   {
    "duration": 62,
    "start_time": "2022-02-11T15:09:44.331Z"
   },
   {
    "duration": 83,
    "start_time": "2022-02-11T15:09:44.395Z"
   },
   {
    "duration": 64,
    "start_time": "2022-02-11T15:09:44.480Z"
   },
   {
    "duration": 9,
    "start_time": "2022-02-11T15:09:44.546Z"
   },
   {
    "duration": 4,
    "start_time": "2022-02-11T15:09:44.557Z"
   },
   {
    "duration": 12,
    "start_time": "2022-02-11T15:09:44.563Z"
   },
   {
    "duration": 9,
    "start_time": "2022-02-11T15:09:44.576Z"
   },
   {
    "duration": 42,
    "start_time": "2022-02-11T15:09:44.586Z"
   },
   {
    "duration": 40,
    "start_time": "2022-02-11T15:09:44.630Z"
   },
   {
    "duration": 5,
    "start_time": "2022-02-11T15:09:44.672Z"
   },
   {
    "duration": 32,
    "start_time": "2022-02-11T15:09:44.679Z"
   },
   {
    "duration": 38,
    "start_time": "2022-02-11T15:09:44.713Z"
   },
   {
    "duration": 38,
    "start_time": "2022-02-11T15:09:44.752Z"
   },
   {
    "duration": 28,
    "start_time": "2022-02-11T15:09:44.791Z"
   },
   {
    "duration": 108,
    "start_time": "2022-02-11T15:09:44.820Z"
   },
   {
    "duration": 117,
    "start_time": "2022-02-11T15:09:44.813Z"
   },
   {
    "duration": 116,
    "start_time": "2022-02-11T15:09:44.816Z"
   },
   {
    "duration": 113,
    "start_time": "2022-02-11T15:09:44.820Z"
   },
   {
    "duration": 110,
    "start_time": "2022-02-11T15:09:44.824Z"
   },
   {
    "duration": 108,
    "start_time": "2022-02-11T15:09:44.827Z"
   },
   {
    "duration": 105,
    "start_time": "2022-02-11T15:09:44.831Z"
   },
   {
    "duration": 102,
    "start_time": "2022-02-11T15:09:44.835Z"
   },
   {
    "duration": 99,
    "start_time": "2022-02-11T15:09:44.839Z"
   },
   {
    "duration": 97,
    "start_time": "2022-02-11T15:09:44.842Z"
   },
   {
    "duration": 95,
    "start_time": "2022-02-11T15:09:44.845Z"
   },
   {
    "duration": 88,
    "start_time": "2022-02-11T15:09:44.853Z"
   },
   {
    "duration": 85,
    "start_time": "2022-02-11T15:09:44.857Z"
   },
   {
    "duration": 84,
    "start_time": "2022-02-11T15:09:44.859Z"
   },
   {
    "duration": 21,
    "start_time": "2022-02-11T15:11:36.296Z"
   },
   {
    "duration": 16,
    "start_time": "2022-02-11T15:12:36.044Z"
   },
   {
    "duration": 4,
    "start_time": "2022-02-11T15:13:24.213Z"
   },
   {
    "duration": 8,
    "start_time": "2022-02-11T15:13:52.165Z"
   },
   {
    "duration": 9,
    "start_time": "2022-02-11T15:14:29.557Z"
   },
   {
    "duration": 4,
    "start_time": "2022-02-11T15:38:45.824Z"
   },
   {
    "duration": 162,
    "start_time": "2022-02-11T15:38:45.830Z"
   },
   {
    "duration": 7,
    "start_time": "2022-02-11T15:38:45.995Z"
   },
   {
    "duration": 48,
    "start_time": "2022-02-11T15:38:46.004Z"
   },
   {
    "duration": 11,
    "start_time": "2022-02-11T15:38:46.054Z"
   },
   {
    "duration": 29,
    "start_time": "2022-02-11T15:38:46.067Z"
   },
   {
    "duration": 6,
    "start_time": "2022-02-11T15:38:46.097Z"
   },
   {
    "duration": 52,
    "start_time": "2022-02-11T15:38:46.106Z"
   },
   {
    "duration": 35,
    "start_time": "2022-02-11T15:38:46.160Z"
   },
   {
    "duration": 31,
    "start_time": "2022-02-11T15:38:46.197Z"
   },
   {
    "duration": 91,
    "start_time": "2022-02-11T15:38:46.230Z"
   },
   {
    "duration": 79,
    "start_time": "2022-02-11T15:38:46.323Z"
   },
   {
    "duration": 71,
    "start_time": "2022-02-11T15:38:46.404Z"
   },
   {
    "duration": 8,
    "start_time": "2022-02-11T15:38:46.477Z"
   },
   {
    "duration": 3,
    "start_time": "2022-02-11T15:38:46.487Z"
   },
   {
    "duration": 38,
    "start_time": "2022-02-11T15:38:46.492Z"
   },
   {
    "duration": 15,
    "start_time": "2022-02-11T15:38:46.533Z"
   },
   {
    "duration": 12,
    "start_time": "2022-02-11T15:38:46.550Z"
   },
   {
    "duration": 15,
    "start_time": "2022-02-11T15:38:46.563Z"
   },
   {
    "duration": 3,
    "start_time": "2022-02-11T15:38:46.580Z"
   },
   {
    "duration": 50,
    "start_time": "2022-02-11T15:38:46.585Z"
   },
   {
    "duration": 15,
    "start_time": "2022-02-11T15:38:46.637Z"
   },
   {
    "duration": 17,
    "start_time": "2022-02-11T15:38:46.655Z"
   },
   {
    "duration": 15,
    "start_time": "2022-02-11T15:38:46.674Z"
   },
   {
    "duration": 44,
    "start_time": "2022-02-11T15:38:46.691Z"
   },
   {
    "duration": 14,
    "start_time": "2022-02-11T15:38:46.737Z"
   },
   {
    "duration": 8,
    "start_time": "2022-02-11T15:38:46.753Z"
   },
   {
    "duration": 20,
    "start_time": "2022-02-11T15:38:46.763Z"
   },
   {
    "duration": 34,
    "start_time": "2022-02-11T15:38:46.784Z"
   },
   {
    "duration": 5,
    "start_time": "2022-02-11T15:38:46.821Z"
   },
   {
    "duration": 38,
    "start_time": "2022-02-11T15:38:46.828Z"
   },
   {
    "duration": 25,
    "start_time": "2022-02-11T15:38:46.868Z"
   },
   {
    "duration": 19,
    "start_time": "2022-02-11T15:38:46.895Z"
   },
   {
    "duration": 23,
    "start_time": "2022-02-11T15:38:46.916Z"
   },
   {
    "duration": 2,
    "start_time": "2022-02-11T15:38:46.941Z"
   },
   {
    "duration": 7,
    "start_time": "2022-02-11T15:38:46.945Z"
   },
   {
    "duration": 6,
    "start_time": "2022-02-11T15:38:46.953Z"
   },
   {
    "duration": 9,
    "start_time": "2022-02-11T15:38:46.961Z"
   },
   {
    "duration": 3,
    "start_time": "2022-02-11T15:58:54.147Z"
   },
   {
    "duration": 152,
    "start_time": "2022-02-11T15:58:54.152Z"
   },
   {
    "duration": 16,
    "start_time": "2022-02-11T15:58:54.307Z"
   },
   {
    "duration": 34,
    "start_time": "2022-02-11T15:58:54.325Z"
   },
   {
    "duration": 5,
    "start_time": "2022-02-11T15:58:54.361Z"
   },
   {
    "duration": 18,
    "start_time": "2022-02-11T15:58:54.368Z"
   },
   {
    "duration": 4,
    "start_time": "2022-02-11T15:58:54.388Z"
   },
   {
    "duration": 48,
    "start_time": "2022-02-11T15:58:54.394Z"
   },
   {
    "duration": 20,
    "start_time": "2022-02-11T15:58:54.446Z"
   },
   {
    "duration": 49,
    "start_time": "2022-02-11T15:58:54.469Z"
   },
   {
    "duration": 67,
    "start_time": "2022-02-11T15:58:54.521Z"
   },
   {
    "duration": 86,
    "start_time": "2022-02-11T15:58:54.590Z"
   },
   {
    "duration": 66,
    "start_time": "2022-02-11T15:58:54.678Z"
   },
   {
    "duration": 7,
    "start_time": "2022-02-11T15:58:54.746Z"
   },
   {
    "duration": 5,
    "start_time": "2022-02-11T15:58:54.755Z"
   },
   {
    "duration": 21,
    "start_time": "2022-02-11T15:58:54.762Z"
   },
   {
    "duration": 10,
    "start_time": "2022-02-11T15:58:54.785Z"
   },
   {
    "duration": 32,
    "start_time": "2022-02-11T15:58:54.796Z"
   },
   {
    "duration": 25,
    "start_time": "2022-02-11T15:58:54.829Z"
   },
   {
    "duration": 6,
    "start_time": "2022-02-11T15:58:54.855Z"
   },
   {
    "duration": 26,
    "start_time": "2022-02-11T15:58:54.863Z"
   },
   {
    "duration": 19,
    "start_time": "2022-02-11T15:58:54.890Z"
   },
   {
    "duration": 17,
    "start_time": "2022-02-11T15:58:54.911Z"
   },
   {
    "duration": 15,
    "start_time": "2022-02-11T15:58:54.930Z"
   },
   {
    "duration": 17,
    "start_time": "2022-02-11T15:58:54.947Z"
   },
   {
    "duration": 15,
    "start_time": "2022-02-11T15:58:54.966Z"
   },
   {
    "duration": 39,
    "start_time": "2022-02-11T15:58:54.984Z"
   },
   {
    "duration": 19,
    "start_time": "2022-02-11T15:58:55.025Z"
   },
   {
    "duration": 14,
    "start_time": "2022-02-11T15:58:55.045Z"
   },
   {
    "duration": 5,
    "start_time": "2022-02-11T15:58:55.061Z"
   },
   {
    "duration": 33,
    "start_time": "2022-02-11T15:58:55.068Z"
   },
   {
    "duration": 28,
    "start_time": "2022-02-11T15:58:55.103Z"
   },
   {
    "duration": 20,
    "start_time": "2022-02-11T15:58:55.133Z"
   },
   {
    "duration": 15,
    "start_time": "2022-02-11T15:58:55.156Z"
   },
   {
    "duration": 10,
    "start_time": "2022-02-11T15:58:55.173Z"
   },
   {
    "duration": 6,
    "start_time": "2022-02-11T15:58:55.218Z"
   },
   {
    "duration": 11,
    "start_time": "2022-02-11T15:58:55.225Z"
   },
   {
    "duration": 5,
    "start_time": "2022-02-11T15:58:55.238Z"
   },
   {
    "duration": 91,
    "start_time": "2022-02-17T15:22:32.530Z"
   },
   {
    "duration": 104,
    "start_time": "2022-02-17T15:28:38.881Z"
   },
   {
    "duration": 123,
    "start_time": "2022-02-17T15:42:13.147Z"
   },
   {
    "duration": 94,
    "start_time": "2022-02-17T17:11:09.527Z"
   },
   {
    "duration": 587,
    "start_time": "2022-02-17T17:11:35.447Z"
   },
   {
    "duration": 137,
    "start_time": "2022-02-17T17:11:36.036Z"
   },
   {
    "duration": 7,
    "start_time": "2022-02-17T17:11:36.175Z"
   },
   {
    "duration": 30,
    "start_time": "2022-02-17T17:11:36.184Z"
   },
   {
    "duration": 12,
    "start_time": "2022-02-17T17:11:36.218Z"
   },
   {
    "duration": 26,
    "start_time": "2022-02-17T17:11:36.232Z"
   },
   {
    "duration": 5,
    "start_time": "2022-02-17T17:11:36.260Z"
   },
   {
    "duration": 38,
    "start_time": "2022-02-17T17:11:36.269Z"
   },
   {
    "duration": 22,
    "start_time": "2022-02-17T17:11:36.310Z"
   },
   {
    "duration": 24,
    "start_time": "2022-02-17T17:11:36.334Z"
   },
   {
    "duration": 76,
    "start_time": "2022-02-17T17:11:36.360Z"
   },
   {
    "duration": 88,
    "start_time": "2022-02-17T17:11:36.438Z"
   },
   {
    "duration": 58,
    "start_time": "2022-02-17T17:11:36.528Z"
   },
   {
    "duration": 7,
    "start_time": "2022-02-17T17:11:36.588Z"
   },
   {
    "duration": 3,
    "start_time": "2022-02-17T17:11:36.597Z"
   },
   {
    "duration": 11,
    "start_time": "2022-02-17T17:11:36.619Z"
   },
   {
    "duration": 10,
    "start_time": "2022-02-17T17:11:36.632Z"
   },
   {
    "duration": 13,
    "start_time": "2022-02-17T17:11:36.644Z"
   },
   {
    "duration": 11,
    "start_time": "2022-02-17T17:11:36.659Z"
   },
   {
    "duration": 3,
    "start_time": "2022-02-17T17:11:36.672Z"
   },
   {
    "duration": 54,
    "start_time": "2022-02-17T17:11:36.677Z"
   },
   {
    "duration": 15,
    "start_time": "2022-02-17T17:11:36.732Z"
   },
   {
    "duration": 17,
    "start_time": "2022-02-17T17:11:36.750Z"
   },
   {
    "duration": 13,
    "start_time": "2022-02-17T17:11:36.769Z"
   },
   {
    "duration": 47,
    "start_time": "2022-02-17T17:11:36.784Z"
   },
   {
    "duration": 18,
    "start_time": "2022-02-17T17:11:36.833Z"
   },
   {
    "duration": 10,
    "start_time": "2022-02-17T17:11:36.853Z"
   },
   {
    "duration": 11,
    "start_time": "2022-02-17T17:11:36.865Z"
   },
   {
    "duration": 40,
    "start_time": "2022-02-17T17:11:36.878Z"
   },
   {
    "duration": 4,
    "start_time": "2022-02-17T17:11:36.921Z"
   },
   {
    "duration": 23,
    "start_time": "2022-02-17T17:11:36.927Z"
   },
   {
    "duration": 14,
    "start_time": "2022-02-17T17:11:36.952Z"
   },
   {
    "duration": 17,
    "start_time": "2022-02-17T17:11:36.968Z"
   },
   {
    "duration": 43,
    "start_time": "2022-02-17T17:11:36.987Z"
   },
   {
    "duration": 8,
    "start_time": "2022-02-17T17:11:37.032Z"
   },
   {
    "duration": 4,
    "start_time": "2022-02-17T17:11:37.041Z"
   },
   {
    "duration": 8,
    "start_time": "2022-02-17T17:11:37.047Z"
   },
   {
    "duration": 4,
    "start_time": "2022-02-17T17:11:37.057Z"
   },
   {
    "duration": 79,
    "start_time": "2022-02-17T17:13:29.445Z"
   },
   {
    "duration": 104,
    "start_time": "2022-02-17T17:20:59.970Z"
   },
   {
    "duration": 86,
    "start_time": "2022-02-17T17:38:09.731Z"
   },
   {
    "duration": 79,
    "start_time": "2022-02-17T17:39:44.641Z"
   },
   {
    "duration": 362,
    "start_time": "2022-02-17T18:16:43.372Z"
   },
   {
    "duration": 280,
    "start_time": "2022-02-17T18:17:01.950Z"
   },
   {
    "duration": 269,
    "start_time": "2022-02-17T19:20:25.778Z"
   },
   {
    "duration": 281,
    "start_time": "2022-02-17T19:20:33.180Z"
   },
   {
    "duration": 641,
    "start_time": "2022-02-17T19:20:53.013Z"
   },
   {
    "duration": 152,
    "start_time": "2022-02-17T19:20:53.656Z"
   },
   {
    "duration": 18,
    "start_time": "2022-02-17T19:20:53.810Z"
   },
   {
    "duration": 30,
    "start_time": "2022-02-17T19:20:53.830Z"
   },
   {
    "duration": 10,
    "start_time": "2022-02-17T19:20:53.862Z"
   },
   {
    "duration": 40,
    "start_time": "2022-02-17T19:20:53.874Z"
   },
   {
    "duration": 5,
    "start_time": "2022-02-17T19:20:53.916Z"
   },
   {
    "duration": 29,
    "start_time": "2022-02-17T19:20:53.924Z"
   },
   {
    "duration": 21,
    "start_time": "2022-02-17T19:20:53.956Z"
   },
   {
    "duration": 44,
    "start_time": "2022-02-17T19:20:53.979Z"
   },
   {
    "duration": 83,
    "start_time": "2022-02-17T19:20:54.025Z"
   },
   {
    "duration": 79,
    "start_time": "2022-02-17T19:20:54.110Z"
   },
   {
    "duration": 69,
    "start_time": "2022-02-17T19:20:54.191Z"
   },
   {
    "duration": 325,
    "start_time": "2022-02-17T19:20:54.261Z"
   },
   {
    "duration": -5,
    "start_time": "2022-02-17T19:20:54.594Z"
   },
   {
    "duration": -8,
    "start_time": "2022-02-17T19:20:54.599Z"
   },
   {
    "duration": -12,
    "start_time": "2022-02-17T19:20:54.605Z"
   },
   {
    "duration": -39,
    "start_time": "2022-02-17T19:20:54.633Z"
   },
   {
    "duration": -44,
    "start_time": "2022-02-17T19:20:54.640Z"
   },
   {
    "duration": -47,
    "start_time": "2022-02-17T19:20:54.645Z"
   },
   {
    "duration": -50,
    "start_time": "2022-02-17T19:20:54.649Z"
   },
   {
    "duration": -53,
    "start_time": "2022-02-17T19:20:54.654Z"
   },
   {
    "duration": -55,
    "start_time": "2022-02-17T19:20:54.657Z"
   },
   {
    "duration": -57,
    "start_time": "2022-02-17T19:20:54.661Z"
   },
   {
    "duration": -58,
    "start_time": "2022-02-17T19:20:54.664Z"
   },
   {
    "duration": -60,
    "start_time": "2022-02-17T19:20:54.668Z"
   },
   {
    "duration": -62,
    "start_time": "2022-02-17T19:20:54.671Z"
   },
   {
    "duration": -63,
    "start_time": "2022-02-17T19:20:54.674Z"
   },
   {
    "duration": -64,
    "start_time": "2022-02-17T19:20:54.677Z"
   },
   {
    "duration": -66,
    "start_time": "2022-02-17T19:20:54.680Z"
   },
   {
    "duration": -67,
    "start_time": "2022-02-17T19:20:54.683Z"
   },
   {
    "duration": -69,
    "start_time": "2022-02-17T19:20:54.686Z"
   },
   {
    "duration": -70,
    "start_time": "2022-02-17T19:20:54.689Z"
   },
   {
    "duration": -72,
    "start_time": "2022-02-17T19:20:54.692Z"
   },
   {
    "duration": -73,
    "start_time": "2022-02-17T19:20:54.695Z"
   },
   {
    "duration": -75,
    "start_time": "2022-02-17T19:20:54.698Z"
   },
   {
    "duration": -76,
    "start_time": "2022-02-17T19:20:54.701Z"
   },
   {
    "duration": -78,
    "start_time": "2022-02-17T19:20:54.704Z"
   },
   {
    "duration": 270,
    "start_time": "2022-02-17T19:21:39.691Z"
   },
   {
    "duration": 53,
    "start_time": "2022-02-17T19:22:38.721Z"
   },
   {
    "duration": 4,
    "start_time": "2022-02-17T19:24:37.064Z"
   },
   {
    "duration": 3,
    "start_time": "2022-02-17T19:24:40.376Z"
   },
   {
    "duration": 3,
    "start_time": "2022-02-17T19:24:43.651Z"
   },
   {
    "duration": 195,
    "start_time": "2022-02-17T19:24:43.656Z"
   },
   {
    "duration": 10,
    "start_time": "2022-02-17T19:24:43.853Z"
   },
   {
    "duration": 47,
    "start_time": "2022-02-17T19:24:43.865Z"
   },
   {
    "duration": 15,
    "start_time": "2022-02-17T19:24:43.914Z"
   },
   {
    "duration": 46,
    "start_time": "2022-02-17T19:24:43.931Z"
   },
   {
    "duration": 12,
    "start_time": "2022-02-17T19:24:43.979Z"
   },
   {
    "duration": 57,
    "start_time": "2022-02-17T19:24:43.993Z"
   },
   {
    "duration": 38,
    "start_time": "2022-02-17T19:24:44.052Z"
   },
   {
    "duration": 31,
    "start_time": "2022-02-17T19:24:44.092Z"
   },
   {
    "duration": 73,
    "start_time": "2022-02-17T19:24:44.125Z"
   },
   {
    "duration": 69,
    "start_time": "2022-02-17T19:24:44.200Z"
   },
   {
    "duration": 65,
    "start_time": "2022-02-17T19:24:44.271Z"
   },
   {
    "duration": 54,
    "start_time": "2022-02-17T19:24:44.338Z"
   },
   {
    "duration": 16,
    "start_time": "2022-02-17T19:24:44.393Z"
   },
   {
    "duration": 67,
    "start_time": "2022-02-17T19:24:44.411Z"
   },
   {
    "duration": 8,
    "start_time": "2022-02-17T19:24:44.480Z"
   },
   {
    "duration": 24,
    "start_time": "2022-02-17T19:24:44.490Z"
   },
   {
    "duration": 27,
    "start_time": "2022-02-17T19:24:44.516Z"
   },
   {
    "duration": 8,
    "start_time": "2022-02-17T19:24:44.545Z"
   },
   {
    "duration": 41,
    "start_time": "2022-02-17T19:24:44.555Z"
   },
   {
    "duration": 46,
    "start_time": "2022-02-17T19:24:44.598Z"
   },
   {
    "duration": 30,
    "start_time": "2022-02-17T19:24:44.649Z"
   },
   {
    "duration": 31,
    "start_time": "2022-02-17T19:24:44.682Z"
   },
   {
    "duration": 29,
    "start_time": "2022-02-17T19:24:44.715Z"
   },
   {
    "duration": 29,
    "start_time": "2022-02-17T19:24:44.746Z"
   },
   {
    "duration": 30,
    "start_time": "2022-02-17T19:24:44.778Z"
   },
   {
    "duration": 32,
    "start_time": "2022-02-17T19:24:44.810Z"
   },
   {
    "duration": 20,
    "start_time": "2022-02-17T19:24:44.844Z"
   },
   {
    "duration": 20,
    "start_time": "2022-02-17T19:24:44.866Z"
   },
   {
    "duration": 49,
    "start_time": "2022-02-17T19:24:44.888Z"
   },
   {
    "duration": 25,
    "start_time": "2022-02-17T19:24:44.939Z"
   },
   {
    "duration": 26,
    "start_time": "2022-02-17T19:24:44.966Z"
   },
   {
    "duration": 50,
    "start_time": "2022-02-17T19:24:44.994Z"
   },
   {
    "duration": 14,
    "start_time": "2022-02-17T19:24:45.046Z"
   },
   {
    "duration": 48,
    "start_time": "2022-02-17T19:24:45.063Z"
   },
   {
    "duration": 21,
    "start_time": "2022-02-17T19:24:45.113Z"
   },
   {
    "duration": 12,
    "start_time": "2022-02-17T19:24:45.137Z"
   },
   {
    "duration": 3,
    "start_time": "2022-02-17T19:25:45.722Z"
   },
   {
    "duration": 158,
    "start_time": "2022-02-17T19:25:45.727Z"
   },
   {
    "duration": 25,
    "start_time": "2022-02-17T19:25:45.887Z"
   },
   {
    "duration": 29,
    "start_time": "2022-02-17T19:25:45.915Z"
   },
   {
    "duration": 5,
    "start_time": "2022-02-17T19:25:45.947Z"
   },
   {
    "duration": 16,
    "start_time": "2022-02-17T19:25:45.953Z"
   },
   {
    "duration": 4,
    "start_time": "2022-02-17T19:25:45.973Z"
   },
   {
    "duration": 55,
    "start_time": "2022-02-17T19:25:45.979Z"
   },
   {
    "duration": 29,
    "start_time": "2022-02-17T19:25:46.036Z"
   },
   {
    "duration": 57,
    "start_time": "2022-02-17T19:25:46.068Z"
   },
   {
    "duration": 67,
    "start_time": "2022-02-17T19:25:46.127Z"
   },
   {
    "duration": 69,
    "start_time": "2022-02-17T19:25:46.208Z"
   },
   {
    "duration": 68,
    "start_time": "2022-02-17T19:25:46.279Z"
   },
   {
    "duration": 67,
    "start_time": "2022-02-17T19:25:46.349Z"
   },
   {
    "duration": 4,
    "start_time": "2022-02-17T19:25:46.418Z"
   },
   {
    "duration": 34,
    "start_time": "2022-02-17T19:25:46.424Z"
   },
   {
    "duration": 9,
    "start_time": "2022-02-17T19:25:46.460Z"
   },
   {
    "duration": 41,
    "start_time": "2022-02-17T19:25:46.471Z"
   },
   {
    "duration": 11,
    "start_time": "2022-02-17T19:25:46.515Z"
   },
   {
    "duration": 4,
    "start_time": "2022-02-17T19:25:46.528Z"
   },
   {
    "duration": 34,
    "start_time": "2022-02-17T19:25:46.533Z"
   },
   {
    "duration": 16,
    "start_time": "2022-02-17T19:25:46.568Z"
   },
   {
    "duration": 33,
    "start_time": "2022-02-17T19:25:46.585Z"
   },
   {
    "duration": 23,
    "start_time": "2022-02-17T19:25:46.620Z"
   },
   {
    "duration": 20,
    "start_time": "2022-02-17T19:25:46.645Z"
   },
   {
    "duration": 16,
    "start_time": "2022-02-17T19:25:46.666Z"
   },
   {
    "duration": 9,
    "start_time": "2022-02-17T19:25:46.707Z"
   },
   {
    "duration": 18,
    "start_time": "2022-02-17T19:25:46.718Z"
   },
   {
    "duration": 11,
    "start_time": "2022-02-17T19:25:46.738Z"
   },
   {
    "duration": 4,
    "start_time": "2022-02-17T19:25:46.751Z"
   },
   {
    "duration": 30,
    "start_time": "2022-02-17T19:25:46.757Z"
   },
   {
    "duration": 33,
    "start_time": "2022-02-17T19:25:46.788Z"
   },
   {
    "duration": 21,
    "start_time": "2022-02-17T19:25:46.822Z"
   },
   {
    "duration": 15,
    "start_time": "2022-02-17T19:25:46.845Z"
   },
   {
    "duration": 9,
    "start_time": "2022-02-17T19:25:46.862Z"
   },
   {
    "duration": 37,
    "start_time": "2022-02-17T19:25:46.873Z"
   },
   {
    "duration": 12,
    "start_time": "2022-02-17T19:25:46.912Z"
   },
   {
    "duration": 5,
    "start_time": "2022-02-17T19:25:46.926Z"
   },
   {
    "duration": 2,
    "start_time": "2022-02-17T19:35:37.830Z"
   },
   {
    "duration": 158,
    "start_time": "2022-02-17T19:35:37.835Z"
   },
   {
    "duration": 11,
    "start_time": "2022-02-17T19:35:37.996Z"
   },
   {
    "duration": 31,
    "start_time": "2022-02-17T19:35:38.009Z"
   },
   {
    "duration": 19,
    "start_time": "2022-02-17T19:35:38.042Z"
   },
   {
    "duration": 48,
    "start_time": "2022-02-17T19:35:38.064Z"
   },
   {
    "duration": 10,
    "start_time": "2022-02-17T19:35:38.115Z"
   },
   {
    "duration": 75,
    "start_time": "2022-02-17T19:35:38.127Z"
   },
   {
    "duration": 47,
    "start_time": "2022-02-17T19:35:38.206Z"
   },
   {
    "duration": 58,
    "start_time": "2022-02-17T19:35:38.256Z"
   },
   {
    "duration": 101,
    "start_time": "2022-02-17T19:35:38.317Z"
   },
   {
    "duration": 111,
    "start_time": "2022-02-17T19:35:38.420Z"
   },
   {
    "duration": 94,
    "start_time": "2022-02-17T19:35:38.534Z"
   },
   {
    "duration": 99,
    "start_time": "2022-02-17T19:35:38.631Z"
   },
   {
    "duration": 5,
    "start_time": "2022-02-17T19:35:38.732Z"
   },
   {
    "duration": 41,
    "start_time": "2022-02-17T19:35:38.739Z"
   },
   {
    "duration": 10,
    "start_time": "2022-02-17T19:35:38.782Z"
   },
   {
    "duration": 18,
    "start_time": "2022-02-17T19:35:38.807Z"
   },
   {
    "duration": 17,
    "start_time": "2022-02-17T19:35:38.827Z"
   },
   {
    "duration": 4,
    "start_time": "2022-02-17T19:35:38.847Z"
   },
   {
    "duration": 28,
    "start_time": "2022-02-17T19:35:38.853Z"
   },
   {
    "duration": 38,
    "start_time": "2022-02-17T19:35:38.883Z"
   },
   {
    "duration": 20,
    "start_time": "2022-02-17T19:35:38.924Z"
   },
   {
    "duration": 18,
    "start_time": "2022-02-17T19:35:38.946Z"
   },
   {
    "duration": 52,
    "start_time": "2022-02-17T19:35:38.966Z"
   },
   {
    "duration": 26,
    "start_time": "2022-02-17T19:35:39.020Z"
   },
   {
    "duration": 10,
    "start_time": "2022-02-17T19:35:39.050Z"
   },
   {
    "duration": 19,
    "start_time": "2022-02-17T19:35:39.061Z"
   },
   {
    "duration": 35,
    "start_time": "2022-02-17T19:35:39.082Z"
   },
   {
    "duration": 7,
    "start_time": "2022-02-17T19:35:39.119Z"
   },
   {
    "duration": 34,
    "start_time": "2022-02-17T19:35:39.128Z"
   },
   {
    "duration": 14,
    "start_time": "2022-02-17T19:35:39.164Z"
   },
   {
    "duration": 60,
    "start_time": "2022-02-17T19:35:39.181Z"
   },
   {
    "duration": 15,
    "start_time": "2022-02-17T19:35:39.243Z"
   },
   {
    "duration": 23,
    "start_time": "2022-02-17T19:35:39.260Z"
   },
   {
    "duration": 14,
    "start_time": "2022-02-17T19:35:39.285Z"
   },
   {
    "duration": 21,
    "start_time": "2022-02-17T19:35:39.301Z"
   },
   {
    "duration": 10,
    "start_time": "2022-02-17T19:35:39.325Z"
   },
   {
    "duration": 3,
    "start_time": "2022-02-17T19:36:46.794Z"
   },
   {
    "duration": 174,
    "start_time": "2022-02-17T19:36:46.799Z"
   },
   {
    "duration": 12,
    "start_time": "2022-02-17T19:36:46.976Z"
   },
   {
    "duration": 42,
    "start_time": "2022-02-17T19:36:46.990Z"
   },
   {
    "duration": 4,
    "start_time": "2022-02-17T19:36:47.034Z"
   },
   {
    "duration": 24,
    "start_time": "2022-02-17T19:36:47.040Z"
   },
   {
    "duration": 4,
    "start_time": "2022-02-17T19:36:47.065Z"
   },
   {
    "duration": 45,
    "start_time": "2022-02-17T19:36:47.071Z"
   },
   {
    "duration": 20,
    "start_time": "2022-02-17T19:36:47.119Z"
   },
   {
    "duration": 24,
    "start_time": "2022-02-17T19:36:47.142Z"
   },
   {
    "duration": 90,
    "start_time": "2022-02-17T19:36:47.168Z"
   },
   {
    "duration": 79,
    "start_time": "2022-02-17T19:36:47.260Z"
   },
   {
    "duration": 67,
    "start_time": "2022-02-17T19:36:47.341Z"
   },
   {
    "duration": 54,
    "start_time": "2022-02-17T19:36:47.410Z"
   },
   {
    "duration": 3,
    "start_time": "2022-02-17T19:36:47.467Z"
   },
   {
    "duration": 37,
    "start_time": "2022-02-17T19:36:47.473Z"
   },
   {
    "duration": 7,
    "start_time": "2022-02-17T19:36:47.512Z"
   },
   {
    "duration": 16,
    "start_time": "2022-02-17T19:36:47.520Z"
   },
   {
    "duration": 11,
    "start_time": "2022-02-17T19:36:47.538Z"
   },
   {
    "duration": 3,
    "start_time": "2022-02-17T19:36:47.551Z"
   },
   {
    "duration": 29,
    "start_time": "2022-02-17T19:36:47.556Z"
   },
   {
    "duration": 16,
    "start_time": "2022-02-17T19:36:47.608Z"
   },
   {
    "duration": 19,
    "start_time": "2022-02-17T19:36:47.625Z"
   },
   {
    "duration": 24,
    "start_time": "2022-02-17T19:36:47.646Z"
   },
   {
    "duration": 45,
    "start_time": "2022-02-17T19:36:47.672Z"
   },
   {
    "duration": 17,
    "start_time": "2022-02-17T19:36:47.719Z"
   },
   {
    "duration": 11,
    "start_time": "2022-02-17T19:36:47.740Z"
   },
   {
    "duration": 23,
    "start_time": "2022-02-17T19:36:47.753Z"
   },
   {
    "duration": 32,
    "start_time": "2022-02-17T19:36:47.777Z"
   },
   {
    "duration": 5,
    "start_time": "2022-02-17T19:36:47.811Z"
   },
   {
    "duration": 35,
    "start_time": "2022-02-17T19:36:47.817Z"
   },
   {
    "duration": 24,
    "start_time": "2022-02-17T19:36:47.855Z"
   },
   {
    "duration": 43,
    "start_time": "2022-02-17T19:36:47.881Z"
   },
   {
    "duration": 15,
    "start_time": "2022-02-17T19:36:47.926Z"
   },
   {
    "duration": 67,
    "start_time": "2022-02-17T19:36:47.943Z"
   },
   {
    "duration": 4,
    "start_time": "2022-02-17T19:36:48.012Z"
   },
   {
    "duration": 12,
    "start_time": "2022-02-17T19:36:48.018Z"
   },
   {
    "duration": 4,
    "start_time": "2022-02-17T19:36:48.032Z"
   },
   {
    "duration": 3,
    "start_time": "2022-02-17T19:44:05.601Z"
   },
   {
    "duration": 170,
    "start_time": "2022-02-17T19:44:05.607Z"
   },
   {
    "duration": 28,
    "start_time": "2022-02-17T19:44:05.780Z"
   },
   {
    "duration": 27,
    "start_time": "2022-02-17T19:44:05.811Z"
   },
   {
    "duration": 32,
    "start_time": "2022-02-17T19:44:05.840Z"
   },
   {
    "duration": 36,
    "start_time": "2022-02-17T19:44:05.874Z"
   },
   {
    "duration": 23,
    "start_time": "2022-02-17T19:44:05.912Z"
   },
   {
    "duration": 34,
    "start_time": "2022-02-17T19:44:05.937Z"
   },
   {
    "duration": 31,
    "start_time": "2022-02-17T19:44:05.974Z"
   },
   {
    "duration": 26,
    "start_time": "2022-02-17T19:44:06.008Z"
   },
   {
    "duration": 79,
    "start_time": "2022-02-17T19:44:06.036Z"
   },
   {
    "duration": 69,
    "start_time": "2022-02-17T19:44:06.116Z"
   },
   {
    "duration": 73,
    "start_time": "2022-02-17T19:44:06.186Z"
   },
   {
    "duration": 63,
    "start_time": "2022-02-17T19:44:06.261Z"
   },
   {
    "duration": 3,
    "start_time": "2022-02-17T19:44:06.326Z"
   },
   {
    "duration": 30,
    "start_time": "2022-02-17T19:44:06.331Z"
   },
   {
    "duration": 23,
    "start_time": "2022-02-17T19:44:06.363Z"
   },
   {
    "duration": 24,
    "start_time": "2022-02-17T19:44:06.388Z"
   },
   {
    "duration": 12,
    "start_time": "2022-02-17T19:44:06.414Z"
   },
   {
    "duration": 14,
    "start_time": "2022-02-17T19:44:06.428Z"
   },
   {
    "duration": 28,
    "start_time": "2022-02-17T19:44:06.444Z"
   },
   {
    "duration": 16,
    "start_time": "2022-02-17T19:44:06.474Z"
   },
   {
    "duration": 28,
    "start_time": "2022-02-17T19:44:06.492Z"
   },
   {
    "duration": 29,
    "start_time": "2022-02-17T19:44:06.521Z"
   },
   {
    "duration": 21,
    "start_time": "2022-02-17T19:44:06.552Z"
   },
   {
    "duration": 23,
    "start_time": "2022-02-17T19:44:06.575Z"
   },
   {
    "duration": 10,
    "start_time": "2022-02-17T19:44:06.609Z"
   },
   {
    "duration": 18,
    "start_time": "2022-02-17T19:44:06.621Z"
   },
   {
    "duration": 11,
    "start_time": "2022-02-17T19:44:06.642Z"
   },
   {
    "duration": 6,
    "start_time": "2022-02-17T19:44:06.655Z"
   },
   {
    "duration": 45,
    "start_time": "2022-02-17T19:44:06.663Z"
   },
   {
    "duration": 16,
    "start_time": "2022-02-17T19:44:06.710Z"
   },
   {
    "duration": 21,
    "start_time": "2022-02-17T19:44:06.728Z"
   },
   {
    "duration": 17,
    "start_time": "2022-02-17T19:44:06.752Z"
   },
   {
    "duration": 42,
    "start_time": "2022-02-17T19:44:06.771Z"
   },
   {
    "duration": 8,
    "start_time": "2022-02-17T19:44:06.815Z"
   },
   {
    "duration": 13,
    "start_time": "2022-02-17T19:44:06.825Z"
   },
   {
    "duration": 11,
    "start_time": "2022-02-17T19:44:06.840Z"
   },
   {
    "duration": 630,
    "start_time": "2022-02-18T10:08:41.867Z"
   },
   {
    "duration": 193,
    "start_time": "2022-02-18T10:08:42.499Z"
   },
   {
    "duration": 25,
    "start_time": "2022-02-18T10:08:42.694Z"
   },
   {
    "duration": 53,
    "start_time": "2022-02-18T10:08:42.721Z"
   },
   {
    "duration": 8,
    "start_time": "2022-02-18T10:08:42.776Z"
   },
   {
    "duration": 26,
    "start_time": "2022-02-18T10:08:42.787Z"
   },
   {
    "duration": 9,
    "start_time": "2022-02-18T10:08:42.815Z"
   },
   {
    "duration": 49,
    "start_time": "2022-02-18T10:08:42.826Z"
   },
   {
    "duration": 22,
    "start_time": "2022-02-18T10:08:42.878Z"
   },
   {
    "duration": 26,
    "start_time": "2022-02-18T10:08:42.903Z"
   },
   {
    "duration": 103,
    "start_time": "2022-02-18T10:08:42.931Z"
   },
   {
    "duration": 87,
    "start_time": "2022-02-18T10:08:43.037Z"
   },
   {
    "duration": 65,
    "start_time": "2022-02-18T10:08:43.126Z"
   },
   {
    "duration": 49,
    "start_time": "2022-02-18T10:08:43.193Z"
   },
   {
    "duration": 15,
    "start_time": "2022-02-18T10:08:43.244Z"
   },
   {
    "duration": 17,
    "start_time": "2022-02-18T10:08:43.261Z"
   },
   {
    "duration": 7,
    "start_time": "2022-02-18T10:08:43.280Z"
   },
   {
    "duration": 33,
    "start_time": "2022-02-18T10:08:43.289Z"
   },
   {
    "duration": 12,
    "start_time": "2022-02-18T10:08:43.325Z"
   },
   {
    "duration": 21,
    "start_time": "2022-02-18T10:08:43.339Z"
   },
   {
    "duration": 33,
    "start_time": "2022-02-18T10:08:43.363Z"
   },
   {
    "duration": 21,
    "start_time": "2022-02-18T10:08:43.398Z"
   },
   {
    "duration": 44,
    "start_time": "2022-02-18T10:08:43.421Z"
   },
   {
    "duration": 26,
    "start_time": "2022-02-18T10:08:43.467Z"
   },
   {
    "duration": 26,
    "start_time": "2022-02-18T10:08:43.495Z"
   },
   {
    "duration": 15,
    "start_time": "2022-02-18T10:08:43.523Z"
   },
   {
    "duration": 10,
    "start_time": "2022-02-18T10:08:43.559Z"
   },
   {
    "duration": 21,
    "start_time": "2022-02-18T10:08:43.571Z"
   },
   {
    "duration": 14,
    "start_time": "2022-02-18T10:08:43.595Z"
   },
   {
    "duration": 4,
    "start_time": "2022-02-18T10:08:43.612Z"
   },
   {
    "duration": 26,
    "start_time": "2022-02-18T10:08:43.617Z"
   },
   {
    "duration": 20,
    "start_time": "2022-02-18T10:08:43.659Z"
   },
   {
    "duration": 30,
    "start_time": "2022-02-18T10:08:43.682Z"
   },
   {
    "duration": 16,
    "start_time": "2022-02-18T10:08:43.714Z"
   },
   {
    "duration": 31,
    "start_time": "2022-02-18T10:08:43.733Z"
   },
   {
    "duration": 27,
    "start_time": "2022-02-18T10:08:43.765Z"
   },
   {
    "duration": 18,
    "start_time": "2022-02-18T10:08:43.794Z"
   },
   {
    "duration": 12,
    "start_time": "2022-02-18T10:08:43.814Z"
   }
  ],
  "colab": {
   "collapsed_sections": [
    "E0vqbgi9ay0H",
    "VUC88oWjTJw2"
   ],
   "name": "yandex_music_project_2021.2.ipynb",
   "provenance": []
  },
  "kernelspec": {
   "display_name": "Python 3",
   "language": "python",
   "name": "python3"
  },
  "language_info": {
   "codemirror_mode": {
    "name": "ipython",
    "version": 3
   },
   "file_extension": ".py",
   "mimetype": "text/x-python",
   "name": "python",
   "nbconvert_exporter": "python",
   "pygments_lexer": "ipython3",
   "version": "3.7.12"
  },
  "toc": {
   "base_numbering": 1,
   "nav_menu": {},
   "number_sections": true,
   "sideBar": true,
   "skip_h1_title": true,
   "title_cell": "Table of Contents",
   "title_sidebar": "Contents",
   "toc_cell": false,
   "toc_position": {
    "height": "calc(100% - 180px)",
    "left": "10px",
    "top": "150px",
    "width": "270.391px"
   },
   "toc_section_display": true,
   "toc_window_display": true
  }
 },
 "nbformat": 4,
 "nbformat_minor": 1
}
